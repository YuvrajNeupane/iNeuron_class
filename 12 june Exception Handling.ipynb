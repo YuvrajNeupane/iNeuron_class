{
 "cells": [
  {
   "cell_type": "markdown",
   "id": "7c246778",
   "metadata": {},
   "source": [
    "# try\n",
    "# except\n",
    "# else\n",
    "# raise\n",
    "# finally"
   ]
  },
  {
   "cell_type": "code",
   "execution_count": 23,
   "id": "8a1c1586",
   "metadata": {},
   "outputs": [
    {
     "name": "stdout",
     "output_type": "stream",
     "text": [
      "enter first number:5\n",
      "enter second number:3\n",
      "1.6666666666666667\n"
     ]
    }
   ],
   "source": [
    "a = int(input('enter first number:'))\n",
    "b = int(input('enter second number:'))\n",
    "\n",
    "c=a/b\n",
    "print(c)"
   ]
  },
  {
   "cell_type": "code",
   "execution_count": 24,
   "id": "6544be9c",
   "metadata": {},
   "outputs": [
    {
     "name": "stdout",
     "output_type": "stream",
     "text": [
      "enter first number:2\n",
      "enter second number:3\n",
      "0.6666666666666666\n"
     ]
    }
   ],
   "source": [
    "a = int(input('enter first number:'))\n",
    "b = int(input('enter second number:'))\n",
    "\n",
    "try:\n",
    "    c=a/b\n",
    "    print(c)\n",
    "except:\n",
    "    print('b should not be a zero!')"
   ]
  },
  {
   "cell_type": "markdown",
   "id": "eb28af99",
   "metadata": {},
   "source": [
    "Exception herarki\n",
    "### OOP\n",
    "# 3 pillar of OOP\n",
    "    Encapsulation.\n",
    "    Inheritance.\n",
    "    Polymorphism.\n",
    "    Abstraction.\n"
   ]
  },
  {
   "cell_type": "raw",
   "id": "23bedb99",
   "metadata": {},
   "source": [
    "class rectan:\n",
    "    def volumn:\n",
    "        pass\n",
    "class cube(rectan):\n",
    "    def volumn():\n",
    "        pass"
   ]
  },
  {
   "cell_type": "markdown",
   "id": "02cf154d",
   "metadata": {},
   "source": [
    "# compailar error \n",
    "# runtime error"
   ]
  },
  {
   "cell_type": "markdown",
   "id": "33dd8aaf",
   "metadata": {},
   "source": [
    "### class task"
   ]
  },
  {
   "cell_type": "code",
   "execution_count": 25,
   "id": "16248e54",
   "metadata": {},
   "outputs": [
    {
     "name": "stdout",
     "output_type": "stream",
     "text": [
      "enter first number:53\n",
      "enter second number:3\n",
      "17.666666666666668\n"
     ]
    }
   ],
   "source": [
    "a = int(input('enter first number:'))\n",
    "b = int(input('enter second number:'))\n",
    "\n",
    "try:\n",
    "    if type(a) == int or type(b) == int:\n",
    "        c = a/b\n",
    "        print(c)\n",
    "    elif a == 0 or b == 0:\n",
    "        print('enter non-zero value.')\n",
    "except:\n",
    "    print('please ente numeric value only.')"
   ]
  },
  {
   "cell_type": "markdown",
   "id": "c131ebfb",
   "metadata": {},
   "source": [
    "# Exponantial \n",
    "#### power of number"
   ]
  },
  {
   "cell_type": "code",
   "execution_count": 26,
   "id": "8e83d492",
   "metadata": {},
   "outputs": [],
   "source": [
    "import math"
   ]
  },
  {
   "cell_type": "markdown",
   "id": "d9449388",
   "metadata": {},
   "source": [
    "# 2 more concept\n",
    "### raise\n",
    "### custom raise\n",
    "### finally"
   ]
  },
  {
   "cell_type": "code",
   "execution_count": 27,
   "id": "52348bd9",
   "metadata": {},
   "outputs": [
    {
     "name": "stdout",
     "output_type": "stream",
     "text": [
      "wrute your name:5\n",
      "wrute your name:6\n",
      "wrute your name:yuvraj\n",
      "yuvraj\n"
     ]
    }
   ],
   "source": [
    "while True:\n",
    "    name = input('wrute your name:')\n",
    "    if name == 'yuvraj':\n",
    "        print(name)\n",
    "        break"
   ]
  },
  {
   "cell_type": "code",
   "execution_count": 10,
   "id": "4dbfb3cd",
   "metadata": {},
   "outputs": [
    {
     "name": "stdout",
     "output_type": "stream",
     "text": [
      "enter the first number:\n",
      "there should not be string value\n",
      "enter the first number:5\n",
      "enter the second number:3\n",
      "8\n"
     ]
    }
   ],
   "source": [
    "while True:\n",
    "    try: \n",
    "        a = int(input('enter the first number:'))\n",
    "        b = int(input('enter the second number:'))\n",
    "        c=a+b\n",
    "        print(c)\n",
    "        break\n",
    "        \n",
    "    except ValueError:\n",
    "        print('there should not be string value')\n",
    "        \n",
    "    except ZeroDevisionError:\n",
    "        print('non zero denominator')     "
   ]
  },
  {
   "cell_type": "code",
   "execution_count": 11,
   "id": "da93f621",
   "metadata": {},
   "outputs": [
    {
     "name": "stdout",
     "output_type": "stream",
     "text": [
      "enter the first number:53\n",
      "enter ther second number:6\n",
      "59\n"
     ]
    }
   ],
   "source": [
    "a = int(input('enter the first number:'))\n",
    "b = int(input('enter ther second number:'))\n",
    "\n",
    "c=a+b\n",
    "print(c)"
   ]
  },
  {
   "cell_type": "code",
   "execution_count": 9,
   "id": "73a4c5ef",
   "metadata": {},
   "outputs": [
    {
     "data": {
      "text/plain": [
       "5"
      ]
     },
     "execution_count": 9,
     "metadata": {},
     "output_type": "execute_result"
    }
   ],
   "source": [
    "def sum(a,b):\n",
    "    c = a+b\n",
    "    return c\n",
    "sum(2,3)"
   ]
  },
  {
   "cell_type": "code",
   "execution_count": 8,
   "id": "814c1bd0",
   "metadata": {},
   "outputs": [
    {
     "name": "stdout",
     "output_type": "stream",
     "text": [
      "enter first number:5\n",
      "enter second number:6\n",
      "5 + 6  would be: 0.8333333333333334\n"
     ]
    }
   ],
   "source": [
    "while True:\n",
    "    try:\n",
    "        a = int(input('enter first number:'))\n",
    "        b = int(input('enter second number:'))\n",
    "        c = a/b\n",
    "        print(a,'+',b,' would be:',c)\n",
    "        break\n",
    "    except :\n",
    "        print('enter integer and numaric value.')\n",
    "        continue"
   ]
  },
  {
   "cell_type": "code",
   "execution_count": 15,
   "id": "39f2a934",
   "metadata": {},
   "outputs": [
    {
     "name": "stdout",
     "output_type": "stream",
     "text": [
      "enter first number:5\n",
      "enter second number:3\n",
      "5 + 3 would be: 8\n"
     ]
    }
   ],
   "source": [
    "import sys\n",
    "while True:\n",
    "    try:\n",
    "        a = int(input('enter first number:'))\n",
    "        b = int(input('enter second number:'))\n",
    "        c = a+b\n",
    "        print(a,'+',b,'would be:',c)\n",
    "        break\n",
    "    except :\n",
    "        print(sys.exc_info()) #sys.exc_info"
   ]
  },
  {
   "cell_type": "code",
   "execution_count": 22,
   "id": "029a3963",
   "metadata": {},
   "outputs": [
    {
     "name": "stdout",
     "output_type": "stream",
     "text": [
      "enter first number:5\n",
      "enter second number:P\n",
      "exception class: <class 'ValueError'>\n",
      "exception message: invalid literal for int() with base 10: 'P'\n",
      "line no. 4\n",
      "enter first number:5\n",
      "enter second number:3\n",
      "8\n"
     ]
    }
   ],
   "source": [
    "while True:\n",
    "    try:\n",
    "        a = int(input('enter first number:'))\n",
    "        b = int(input('enter second number:'))\n",
    "        c = a+b\n",
    "        print(c)\n",
    "        break\n",
    "    except:\n",
    "        a,b,c = sys.exc_info()\n",
    "        print('exception class:',a)\n",
    "        print('exception message:',b)\n",
    "        print('line no.',c.tb_lineno)"
   ]
  },
  {
   "cell_type": "code",
   "execution_count": 28,
   "id": "6f77b227",
   "metadata": {},
   "outputs": [
    {
     "name": "stdout",
     "output_type": "stream",
     "text": [
      "enter first number:5\n",
      "enter second number:9\n",
      "5 + 9 would be: 14\n"
     ]
    }
   ],
   "source": [
    "import sys\n",
    "while True:\n",
    "    try:\n",
    "        a = int(input('enter first number:'))\n",
    "        b = int(input('enter second number:'))\n",
    "        c = a+b\n",
    "        print(a,'+',b,'would be:',c)\n",
    "        break\n",
    "    except :\n",
    "        print(sys.exc_info()) #sys.exc_info"
   ]
  },
  {
   "cell_type": "markdown",
   "id": "95b1c3f3",
   "metadata": {},
   "source": [
    "# traceback modul"
   ]
  },
  {
   "cell_type": "code",
   "execution_count": 2,
   "id": "c7662e98",
   "metadata": {},
   "outputs": [],
   "source": [
    "from traceback import format_exc"
   ]
  },
  {
   "cell_type": "markdown",
   "id": "dd0edd58",
   "metadata": {},
   "source": [
    "# raise execption"
   ]
  },
  {
   "cell_type": "code",
   "execution_count": 8,
   "id": "65910d7b",
   "metadata": {},
   "outputs": [
    {
     "name": "stdout",
     "output_type": "stream",
     "text": [
      "enter first number:-2\n",
      "enter second number:2\n",
      "neg number note allowd\n",
      "enter first number:3\n",
      "enter second number:9\n",
      "0.3333333333333333\n"
     ]
    }
   ],
   "source": [
    "while True:\n",
    "    try:\n",
    "        a = int(input('enter first number:'))\n",
    "        b = int(input('enter second number:'))\n",
    "        if a<0 or b < 0:\n",
    "            raise Exception('neg number note allowd')\n",
    "        c = a/b\n",
    "        print(c)\n",
    "        break\n",
    "    except ValueError:\n",
    "        print('Please enter int only:')\n",
    "    except ZeroDivisionError:\n",
    "        print('please enter non Zero denomitor')\n",
    "    except Exception as e:\n",
    "        print(e)"
   ]
  },
  {
   "cell_type": "markdown",
   "id": "1c252dac",
   "metadata": {},
   "source": [
    "# custom exception"
   ]
  },
  {
   "cell_type": "code",
   "execution_count": null,
   "id": "c7598b56",
   "metadata": {},
   "outputs": [],
   "source": []
  },
  {
   "cell_type": "markdown",
   "id": "b9b518e3",
   "metadata": {},
   "source": [
    "# finally block"
   ]
  },
  {
   "cell_type": "code",
   "execution_count": 9,
   "id": "87afa880",
   "metadata": {},
   "outputs": [
    {
     "name": "stdout",
     "output_type": "stream",
     "text": [
      "enter first number:2\n",
      "enter second number:l\n",
      "return all\n",
      "hello\n",
      "enter first number:2\n",
      "enter second number:9\n",
      "0.2222222222222222\n",
      "hello\n"
     ]
    }
   ],
   "source": [
    "while True:\n",
    "    try:\n",
    "        a = int(input('enter first number:'))\n",
    "        b = int(input('enter second number:'))\n",
    "        if a<0 or b < 0:\n",
    "            raise Exception('neg number note allowd')\n",
    "        c = a/b\n",
    "        print(c)\n",
    "        break\n",
    "    except ValueError:\n",
    "        print('return all')\n",
    "    finally:\n",
    "        print('hello')"
   ]
  }
 ],
 "metadata": {
  "kernelspec": {
   "display_name": "Python 3 (ipykernel)",
   "language": "python",
   "name": "python3"
  },
  "language_info": {
   "codemirror_mode": {
    "name": "ipython",
    "version": 3
   },
   "file_extension": ".py",
   "mimetype": "text/x-python",
   "name": "python",
   "nbconvert_exporter": "python",
   "pygments_lexer": "ipython3",
   "version": "3.9.12"
  }
 },
 "nbformat": 4,
 "nbformat_minor": 5
}
