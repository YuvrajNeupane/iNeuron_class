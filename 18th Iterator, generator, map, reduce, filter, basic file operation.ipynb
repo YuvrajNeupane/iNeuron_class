{
 "cells": [
  {
   "cell_type": "markdown",
   "id": "6b3ac2f8",
   "metadata": {},
   "source": [
    "# #Iterator"
   ]
  },
  {
   "cell_type": "markdown",
   "id": "38e80560",
   "metadata": {},
   "source": [
    "### Iterable can gives your iterator\n",
    "### In Iterator define NEXT method can go for elements\n",
    "### Iteration fetch the next element called iteration"
   ]
  },
  {
   "cell_type": "code",
   "execution_count": 1,
   "id": "bd3246d9",
   "metadata": {},
   "outputs": [],
   "source": [
    "L = [1,2,3,4]"
   ]
  },
  {
   "cell_type": "markdown",
   "id": "a3750fdc",
   "metadata": {},
   "source": [
    "# # Trick\n",
    ". Every Iterable has an iter function.\n",
    "\n",
    ". Every iterator function has both iter as well as a next funtion."
   ]
  },
  {
   "cell_type": "markdown",
   "id": "fa255bae",
   "metadata": {},
   "source": [
    "# check if the object iterator or not\n",
    "### 1.use dir function\n",
    "### 2.use loop if its return all the requarment value"
   ]
  },
  {
   "cell_type": "markdown",
   "id": "100b8555",
   "metadata": {},
   "source": [
    "# #Generatore"
   ]
  },
  {
   "cell_type": "markdown",
   "id": "972aea04",
   "metadata": {},
   "source": [
    "### Generator is a ctration of iterator simple method"
   ]
  },
  {
   "cell_type": "code",
   "execution_count": null,
   "id": "1673bee4",
   "metadata": {},
   "outputs": [],
   "source": [
    "l = [1,2,3,4,5]\n",
    "for i in l:\n",
    "    print(i)"
   ]
  },
  {
   "cell_type": "code",
   "execution_count": null,
   "id": "47fcc6b3",
   "metadata": {},
   "outputs": [],
   "source": [
    "next(l)"
   ]
  },
  {
   "cell_type": "markdown",
   "id": "7d34e919",
   "metadata": {},
   "source": [
    "TypeError: 'list' object is not an iterator"
   ]
  },
  {
   "cell_type": "code",
   "execution_count": null,
   "id": "10543bb3",
   "metadata": {},
   "outputs": [],
   "source": [
    "b=iter(l)"
   ]
  },
  {
   "cell_type": "code",
   "execution_count": null,
   "id": "2f0a9769",
   "metadata": {},
   "outputs": [],
   "source": [
    "next(b) "
   ]
  },
  {
   "cell_type": "code",
   "execution_count": null,
   "id": "7cd3de1e",
   "metadata": {},
   "outputs": [],
   "source": [
    "next(b)"
   ]
  },
  {
   "cell_type": "code",
   "execution_count": null,
   "id": "95e543e2",
   "metadata": {},
   "outputs": [],
   "source": [
    "next(b)"
   ]
  },
  {
   "cell_type": "code",
   "execution_count": null,
   "id": "51497657",
   "metadata": {},
   "outputs": [],
   "source": [
    "next(b)"
   ]
  },
  {
   "cell_type": "code",
   "execution_count": null,
   "id": "62963578",
   "metadata": {},
   "outputs": [],
   "source": [
    "next(b)"
   ]
  },
  {
   "cell_type": "code",
   "execution_count": null,
   "id": "6acff6fb",
   "metadata": {},
   "outputs": [],
   "source": [
    "next(b)"
   ]
  },
  {
   "cell_type": "code",
   "execution_count": null,
   "id": "94626dad",
   "metadata": {},
   "outputs": [],
   "source": [
    "s=('sudh')\n",
    "for i in s:\n",
    "    print(i)"
   ]
  },
  {
   "cell_type": "code",
   "execution_count": null,
   "id": "31992130",
   "metadata": {},
   "outputs": [],
   "source": [
    "t = (1,2,5,3)\n",
    "i = iter(t)"
   ]
  },
  {
   "cell_type": "code",
   "execution_count": null,
   "id": "60f8be6e",
   "metadata": {},
   "outputs": [],
   "source": [
    "next(i)"
   ]
  },
  {
   "cell_type": "code",
   "execution_count": null,
   "id": "0067126b",
   "metadata": {},
   "outputs": [],
   "source": [
    "next(i)"
   ]
  },
  {
   "cell_type": "code",
   "execution_count": null,
   "id": "53c6d2d0",
   "metadata": {},
   "outputs": [],
   "source": [
    "next(i)"
   ]
  },
  {
   "cell_type": "code",
   "execution_count": null,
   "id": "9cca6c3e",
   "metadata": {},
   "outputs": [],
   "source": [
    "next(i)"
   ]
  },
  {
   "cell_type": "code",
   "execution_count": null,
   "id": "c69d5854",
   "metadata": {},
   "outputs": [],
   "source": [
    "next(i)"
   ]
  },
  {
   "cell_type": "markdown",
   "id": "fbc5fa07",
   "metadata": {},
   "source": [
    "# Generator"
   ]
  },
  {
   "cell_type": "code",
   "execution_count": null,
   "id": "3b1b9dd3",
   "metadata": {},
   "outputs": [],
   "source": [
    "a = range(0,10)\n",
    "a"
   ]
  },
  {
   "cell_type": "code",
   "execution_count": null,
   "id": "5fd3f336",
   "metadata": {},
   "outputs": [],
   "source": [
    "b = list(range(0,10))\n",
    "print(b)\n",
    "type(b)"
   ]
  },
  {
   "cell_type": "code",
   "execution_count": null,
   "id": "b0d0fea0",
   "metadata": {},
   "outputs": [],
   "source": [
    "s = list(range(1,5))\n",
    "for i in s:\n",
    "    print(i*i)"
   ]
  },
  {
   "cell_type": "code",
   "execution_count": null,
   "id": "b7a4930f",
   "metadata": {},
   "outputs": [],
   "source": [
    "def sqr(n):\n",
    "    x= [i*i for i in range(n)]\n",
    "    return x\n",
    "sqr(4)"
   ]
  },
  {
   "cell_type": "code",
   "execution_count": null,
   "id": "2f292846",
   "metadata": {},
   "outputs": [],
   "source": [
    "def sum1(*a):\n",
    "    l = 0\n",
    "    for i in a:\n",
    "        if type(i) == int:\n",
    "            l = l +i\n",
    "    return l\n",
    "sum1(1,2,3)"
   ]
  },
  {
   "cell_type": "code",
   "execution_count": null,
   "id": "a8548abf",
   "metadata": {},
   "outputs": [],
   "source": [
    "list1(4)\n",
    "[10,1,2,3,4]"
   ]
  },
  {
   "cell_type": "code",
   "execution_count": null,
   "id": "08af480e",
   "metadata": {},
   "outputs": [],
   "source": [
    "def list2(*a):\n",
    "    l = []\n",
    "    for i in a:\n",
    "        l.append(i)\n",
    "    return l\n",
    "list2(4,2,3,4,5)"
   ]
  },
  {
   "cell_type": "code",
   "execution_count": null,
   "id": "acc46545",
   "metadata": {},
   "outputs": [],
   "source": [
    "def aa(*a):\n",
    "    l = []\n",
    "    for i in list(range(0,*a)):\n",
    "        l.append(i+1)\n",
    "    return l\n",
    "aa(10)"
   ]
  },
  {
   "cell_type": "code",
   "execution_count": null,
   "id": "677c43cb",
   "metadata": {},
   "outputs": [],
   "source": [
    "list(range(0,4))"
   ]
  },
  {
   "cell_type": "markdown",
   "id": "fa3f5bf4",
   "metadata": {},
   "source": [
    "# generate a denerator (yield)"
   ]
  },
  {
   "cell_type": "code",
   "execution_count": null,
   "id": "27291e0d",
   "metadata": {},
   "outputs": [],
   "source": [
    "def squar_func(n):\n",
    "    x = [i*i for i in range(n)]\n",
    "    yield x # convert into a any function in a generator function is YIELD"
   ]
  },
  {
   "cell_type": "code",
   "execution_count": null,
   "id": "7a0512a2",
   "metadata": {},
   "outputs": [],
   "source": [
    "squar_func(4)"
   ]
  },
  {
   "cell_type": "code",
   "execution_count": null,
   "id": "aa3e2b02",
   "metadata": {},
   "outputs": [],
   "source": [
    "for i in squar_func(4):\n",
    "    print(i)"
   ]
  },
  {
   "cell_type": "markdown",
   "id": "279bc605",
   "metadata": {},
   "source": [
    " # fibonacci series"
   ]
  },
  {
   "cell_type": "markdown",
   "id": "65d3a83f",
   "metadata": {},
   "source": [
    "### fibonacci series sum of previus tow num for new number"
   ]
  },
  {
   "cell_type": "code",
   "execution_count": null,
   "id": "da21cf17",
   "metadata": {},
   "outputs": [],
   "source": [
    "def fibonacci_series(n):\n",
    "    a = 1\n",
    "    b = 1\n",
    "    l = []\n",
    "    for i in range(n):\n",
    "        l.append(a)\n",
    "        a,b = b, a+b\n",
    "    return l\n",
    "fibonacci_series(10)"
   ]
  },
  {
   "cell_type": "code",
   "execution_count": 23,
   "id": "5cb00529",
   "metadata": {},
   "outputs": [
    {
     "name": "stdout",
     "output_type": "stream",
     "text": [
      "0\n",
      "1\n",
      "1\n",
      "2\n",
      "3\n"
     ]
    }
   ],
   "source": [
    "step = 5\n",
    "a = 1\n",
    "b = 0\n",
    "for i in range(step):\n",
    "    if a == 0 | b == 0:\n",
    "        print(b)\n",
    "    else:\n",
    "        a,b = b,a+b\n",
    "        print(a)"
   ]
  },
  {
   "cell_type": "code",
   "execution_count": 41,
   "id": "57be3f48",
   "metadata": {},
   "outputs": [
    {
     "data": {
      "text/plain": [
       "11"
      ]
     },
     "execution_count": 41,
     "metadata": {},
     "output_type": "execute_result"
    }
   ],
   "source": [
    "def sum1(a,b):\n",
    "    c=a+b\n",
    "    return c\n",
    "sum1(5,6)"
   ]
  },
  {
   "cell_type": "code",
   "execution_count": 49,
   "id": "0c1b4758",
   "metadata": {},
   "outputs": [
    {
     "name": "stdout",
     "output_type": "stream",
     "text": [
      "0\n",
      "1\n",
      "1\n",
      "2\n",
      "3\n"
     ]
    }
   ],
   "source": [
    "def fibco (n):\n",
    "    a = 1\n",
    "    b = 0\n",
    "    for i in range(n):\n",
    "        if a == 0 | b == 0:\n",
    "            print('')\n",
    "        else:\n",
    "            a,b = b, a+b\n",
    "            print(a)\n",
    "fibco(5)"
   ]
  },
  {
   "cell_type": "code",
   "execution_count": 45,
   "id": "990dc87b",
   "metadata": {},
   "outputs": [
    {
     "data": {
      "text/plain": [
       "5"
      ]
     },
     "execution_count": 45,
     "metadata": {},
     "output_type": "execute_result"
    }
   ],
   "source": []
  },
  {
   "cell_type": "code",
   "execution_count": 5,
   "id": "5789da66",
   "metadata": {},
   "outputs": [],
   "source": [
    "#0,1,1,2,3,5,8,13,21,34,55,89,144\n",
    "\n",
    "def fib(n):\n",
    "    a = 0\n",
    "    b = 1\n",
    "    print(a)\n",
    "    print(b)\n",
    "    \n",
    "    for i in range(2,n):\n",
    "        c = a + b\n",
    "        a = b\n",
    "        b = c\n",
    "        print(c)"
   ]
  },
  {
   "cell_type": "code",
   "execution_count": 8,
   "id": "b0d9b707",
   "metadata": {},
   "outputs": [
    {
     "name": "stdout",
     "output_type": "stream",
     "text": [
      "0\n",
      "1\n",
      "1\n",
      "2\n",
      "3\n",
      "5\n",
      "8\n",
      "13\n",
      "21\n",
      "34\n",
      "55\n",
      "89\n",
      "144\n",
      "233\n",
      "377\n"
     ]
    }
   ],
   "source": [
    "fib(15)"
   ]
  },
  {
   "cell_type": "markdown",
   "id": "4b84874e",
   "metadata": {},
   "source": [
    "## GENERATOR"
   ]
  },
  {
   "cell_type": "code",
   "execution_count": 14,
   "id": "1b42f781",
   "metadata": {},
   "outputs": [
    {
     "data": {
      "text/plain": [
       "[0, 1, 1, 2, 3, 5, 8, 13, 21, 34]"
      ]
     },
     "execution_count": 14,
     "metadata": {},
     "output_type": "execute_result"
    }
   ],
   "source": [
    "def funk(n):\n",
    "    a = 0\n",
    "    b = 1\n",
    "    l = []\n",
    "    for i in range(n):\n",
    "        l.append(a)\n",
    "        a,b = b, a+b\n",
    "    return l\n",
    "funk(10)"
   ]
  },
  {
   "cell_type": "code",
   "execution_count": 32,
   "id": "0e9a782e",
   "metadata": {},
   "outputs": [
    {
     "name": "stdout",
     "output_type": "stream",
     "text": [
      "0\n",
      "1\n",
      "1\n",
      "2\n",
      "3\n",
      "5\n",
      "8\n",
      "13\n",
      "21\n",
      "34\n"
     ]
    }
   ],
   "source": [
    "def funk(n):\n",
    "    a = 0\n",
    "    b = 1\n",
    "    for i in range(n):\n",
    "        yield a\n",
    "        a,b = b, a+b\n",
    "for i in funk(10):\n",
    "    print(i)"
   ]
  },
  {
   "cell_type": "code",
   "execution_count": 39,
   "id": "3444929a",
   "metadata": {},
   "outputs": [],
   "source": [
    "def funk1(n):\n",
    "    a = 0 \n",
    "    b = 1\n",
    "    print(a)\n",
    "    print(b)\n",
    "    for i in range(n):\n",
    "        c = a+b\n",
    "        a = b\n",
    "        b = c\n",
    "        yield c\n"
   ]
  },
  {
   "cell_type": "code",
   "execution_count": 41,
   "id": "c85ac812",
   "metadata": {},
   "outputs": [
    {
     "name": "stdout",
     "output_type": "stream",
     "text": [
      "0\n",
      "1\n",
      "1\n",
      "2\n",
      "3\n",
      "5\n",
      "8\n",
      "13\n",
      "21\n",
      "34\n",
      "55\n",
      "89\n"
     ]
    }
   ],
   "source": [
    "for i in funk1(10):\n",
    "    print(i)"
   ]
  },
  {
   "cell_type": "code",
   "execution_count": 42,
   "id": "3d894efe",
   "metadata": {},
   "outputs": [
    {
     "name": "stdout",
     "output_type": "stream",
     "text": [
      " Volume in drive C has no label.\n",
      " Volume Serial Number is 827D-0E2C\n",
      "\n",
      " Directory of C:\\Users\\Yuvraj\\iNeuron\\class\n",
      "\n",
      "08/05/2022  05:53 PM    <DIR>          .\n",
      "08/05/2022  05:53 PM    <DIR>          ..\n",
      "08/03/2022  04:46 PM    <DIR>          .ipynb_checkpoints\n",
      "08/05/2022  12:41 PM            11,352 12 june Exception Handling.ipynb\n",
      "08/05/2022  05:53 PM            20,848 18th Iterator, generator, map, reduce, filter, basic file operation.ipynb\n",
      "07/30/2022  07:11 PM           369,632 30 july (data analysis).ipynb\n",
      "07/31/2022  06:35 PM             3,461 31 july numpy.ipynb\n",
      "07/31/2022  06:35 PM            88,757 31July pandas .ipynb\n",
      "08/02/2022  06:27 PM            28,127 5th Jun Function .ipynb\n",
      "               6 File(s)        522,177 bytes\n",
      "               3 Dir(s)  75,245,715,456 bytes free\n"
     ]
    }
   ],
   "source": [
    "ls"
   ]
  },
  {
   "cell_type": "code",
   "execution_count": 31,
   "id": "0a22ef26",
   "metadata": {},
   "outputs": [
    {
     "data": {
      "text/plain": [
       "59"
      ]
     },
     "execution_count": 31,
     "metadata": {},
     "output_type": "execute_result"
    }
   ],
   "source": [
    "f1 = open('yuvraj.txt','w')\n",
    "f1.write('this is a file operation i am trying to do in my fsds class')"
   ]
  },
  {
   "cell_type": "code",
   "execution_count": 4,
   "id": "7701090e",
   "metadata": {},
   "outputs": [],
   "source": [
    "f1.close()"
   ]
  },
  {
   "cell_type": "code",
   "execution_count": 5,
   "id": "14dba052",
   "metadata": {},
   "outputs": [
    {
     "data": {
      "text/plain": [
       "24"
      ]
     },
     "execution_count": 5,
     "metadata": {},
     "output_type": "execute_result"
    }
   ],
   "source": [
    "f3 = open('test.sudh','w')\n",
    "f3.write('scsdds sdsdfsdf sdfsdsds')\n"
   ]
  },
  {
   "cell_type": "code",
   "execution_count": 6,
   "id": "eeff171c",
   "metadata": {},
   "outputs": [
    {
     "name": "stdout",
     "output_type": "stream",
     "text": [
      " Volume in drive C has no label.\n",
      " Volume Serial Number is 827D-0E2C\n",
      "\n",
      " Directory of C:\\Users\\Yuvraj\\iNeuron\\class\n",
      "\n",
      "08/08/2022  02:12 PM    <DIR>          .\n",
      "08/08/2022  02:12 PM    <DIR>          ..\n",
      "08/03/2022  04:46 PM    <DIR>          .ipynb_checkpoints\n",
      "08/05/2022  12:41 PM            11,352 12 june Exception Handling.ipynb\n",
      "08/08/2022  02:12 PM            24,071 18th Iterator, generator, map, reduce, filter, basic file operation.ipynb\n",
      "07/30/2022  07:11 PM           369,632 30 july (data analysis).ipynb\n",
      "07/31/2022  06:35 PM             3,461 31 july numpy.ipynb\n",
      "07/31/2022  06:35 PM            88,757 31July pandas .ipynb\n",
      "08/02/2022  06:27 PM            28,127 5th Jun Function .ipynb\n",
      "08/08/2022  02:12 PM                 0 test.sudh\n",
      "08/08/2022  02:11 PM               320 test5.txt\n",
      "08/08/2022  02:12 PM                59 yuvraj.txt\n",
      "               9 File(s)        525,779 bytes\n",
      "               3 Dir(s)  76,118,941,696 bytes free\n"
     ]
    }
   ],
   "source": [
    "ls"
   ]
  },
  {
   "cell_type": "code",
   "execution_count": 37,
   "id": "dac8933f",
   "metadata": {},
   "outputs": [
    {
     "name": "stdout",
     "output_type": "stream",
     "text": [
      "Overwriting test5.txt\n"
     ]
    }
   ],
   "source": [
    "%%writefile test5.txt\n",
    "this is my python program to write into a file in diffrent way\n",
    "this is my python program to write into a file in diffrent way\n",
    "this is my python program to write into a file in diffrent way\n",
    "this is my python program to write into a file in diffrent way\n",
    "this is my python program to write into a file in diffrent way"
   ]
  },
  {
   "cell_type": "code",
   "execution_count": 38,
   "id": "669dd101",
   "metadata": {},
   "outputs": [],
   "source": [
    "f = open('test5.txt')"
   ]
  },
  {
   "cell_type": "code",
   "execution_count": 39,
   "id": "730b9594",
   "metadata": {},
   "outputs": [
    {
     "data": {
      "text/plain": [
       "'this is my python program to write into a file in diffrent way\\nthis is my python program to write into a file in diffrent way\\nthis is my python program to write into a file in diffrent way\\nthis is my python program to write into a file in diffrent way\\nthis is my python program to write into a file in diffrent way\\n'"
      ]
     },
     "execution_count": 39,
     "metadata": {},
     "output_type": "execute_result"
    }
   ],
   "source": [
    "f.read()"
   ]
  },
  {
   "cell_type": "code",
   "execution_count": 11,
   "id": "868f4d8c",
   "metadata": {},
   "outputs": [
    {
     "data": {
      "text/plain": [
       "''"
      ]
     },
     "execution_count": 11,
     "metadata": {},
     "output_type": "execute_result"
    }
   ],
   "source": [
    "f.read()"
   ]
  },
  {
   "cell_type": "code",
   "execution_count": 15,
   "id": "9b31237c",
   "metadata": {},
   "outputs": [
    {
     "data": {
      "text/plain": [
       "0"
      ]
     },
     "execution_count": 15,
     "metadata": {},
     "output_type": "execute_result"
    }
   ],
   "source": [
    "f.seek(0)"
   ]
  },
  {
   "cell_type": "code",
   "execution_count": 16,
   "id": "db405986",
   "metadata": {},
   "outputs": [
    {
     "data": {
      "text/plain": [
       "'this is my python program to write into a file in diffrent way\\nthis is my python program to write into a file in diffrent way\\nthis is my python program to write into a file in diffrent way\\nthis is my python program to write into a file in diffrent way\\nthis is my python program to write into a file in diffrent way\\n'"
      ]
     },
     "execution_count": 16,
     "metadata": {},
     "output_type": "execute_result"
    }
   ],
   "source": [
    "f.read()"
   ]
  },
  {
   "cell_type": "markdown",
   "id": "6c6fc918",
   "metadata": {},
   "source": [
    "# because of seek function to put your cursir anywhere "
   ]
  },
  {
   "cell_type": "markdown",
   "id": "65b88477",
   "metadata": {},
   "source": [
    "## filename.seek(index number)"
   ]
  },
  {
   "cell_type": "code",
   "execution_count": 20,
   "id": "e1cb9afd",
   "metadata": {},
   "outputs": [
    {
     "data": {
      "text/plain": [
       "4"
      ]
     },
     "execution_count": 20,
     "metadata": {},
     "output_type": "execute_result"
    }
   ],
   "source": [
    "f.seek(4)"
   ]
  },
  {
   "cell_type": "code",
   "execution_count": 22,
   "id": "84ed9541",
   "metadata": {},
   "outputs": [
    {
     "data": {
      "text/plain": [
       "'y python program to write into a file in diffrent way\\nthis is my python program to write into a file in diffrent way\\nthis is my python program to write into a file in diffrent way\\nthis is my python program to write into a file in diffrent way\\nthis is my python program to write into a file in diffrent way\\n'"
      ]
     },
     "execution_count": 22,
     "metadata": {},
     "output_type": "execute_result"
    }
   ],
   "source": [
    "f.read()"
   ]
  },
  {
   "cell_type": "code",
   "execution_count": 23,
   "id": "9d2e1239",
   "metadata": {},
   "outputs": [
    {
     "data": {
      "text/plain": [
       "320"
      ]
     },
     "execution_count": 23,
     "metadata": {},
     "output_type": "execute_result"
    }
   ],
   "source": [
    "f.tell()"
   ]
  },
  {
   "cell_type": "code",
   "execution_count": 34,
   "id": "3a94e489",
   "metadata": {},
   "outputs": [
    {
     "data": {
      "text/plain": [
       "0"
      ]
     },
     "execution_count": 34,
     "metadata": {},
     "output_type": "execute_result"
    }
   ],
   "source": [
    "f.seek(0)"
   ]
  },
  {
   "cell_type": "code",
   "execution_count": 27,
   "id": "f2576029",
   "metadata": {},
   "outputs": [
    {
     "data": {
      "text/plain": [
       "59"
      ]
     },
     "execution_count": 27,
     "metadata": {},
     "output_type": "execute_result"
    }
   ],
   "source": [
    "f1.tell()"
   ]
  },
  {
   "cell_type": "code",
   "execution_count": 33,
   "id": "bc7cd0f1",
   "metadata": {},
   "outputs": [
    {
     "data": {
      "text/plain": [
       "'this is my python program to write into a file in diffrent way\\nthis is my python program to write into a file in diffrent way\\nthis is my python program to write into a file in diffrent way\\nthis is my python program to write into a file in diffrent way\\nthis is my python program to write into a file in diffrent way\\n'"
      ]
     },
     "execution_count": 33,
     "metadata": {},
     "output_type": "execute_result"
    }
   ],
   "source": [
    "f.read()"
   ]
  },
  {
   "cell_type": "code",
   "execution_count": 41,
   "id": "1b794949",
   "metadata": {},
   "outputs": [
    {
     "data": {
      "text/plain": [
       "0"
      ]
     },
     "execution_count": 41,
     "metadata": {},
     "output_type": "execute_result"
    }
   ],
   "source": [
    "f.seek(0)"
   ]
  },
  {
   "cell_type": "code",
   "execution_count": 42,
   "id": "81cef892",
   "metadata": {},
   "outputs": [
    {
     "data": {
      "text/plain": [
       "['this is my python program to write into a file in diffrent way\\n',\n",
       " 'this is my python program to write into a file in diffrent way\\n',\n",
       " 'this is my python program to write into a file in diffrent way\\n',\n",
       " 'this is my python program to write into a file in diffrent way\\n',\n",
       " 'this is my python program to write into a file in diffrent way\\n']"
      ]
     },
     "execution_count": 42,
     "metadata": {},
     "output_type": "execute_result"
    }
   ],
   "source": [
    "f.readlines()"
   ]
  },
  {
   "cell_type": "code",
   "execution_count": 46,
   "id": "e366afc3",
   "metadata": {},
   "outputs": [],
   "source": [
    "f2 = open('test5.txt')"
   ]
  },
  {
   "cell_type": "code",
   "execution_count": 47,
   "id": "0991e304",
   "metadata": {},
   "outputs": [
    {
     "data": {
      "text/plain": [
       "'this is my python program to write into a file in diffrent way\\nthis is my python program to write into a file in diffrent way\\nthis is my python program to write into a file in diffrent way\\nthis is my python program to write into a file in diffrent way\\nthis is my python program to write into a file in diffrent way\\n'"
      ]
     },
     "execution_count": 47,
     "metadata": {},
     "output_type": "execute_result"
    }
   ],
   "source": [
    "f2.read()"
   ]
  },
  {
   "cell_type": "code",
   "execution_count": 49,
   "id": "95adc001",
   "metadata": {},
   "outputs": [
    {
     "data": {
      "text/plain": [
       "0"
      ]
     },
     "execution_count": 49,
     "metadata": {},
     "output_type": "execute_result"
    }
   ],
   "source": [
    "f2.seek(0)"
   ]
  },
  {
   "cell_type": "code",
   "execution_count": 50,
   "id": "de4f0e2d",
   "metadata": {},
   "outputs": [
    {
     "data": {
      "text/plain": [
       "'this is my python program to write into a file in diffrent way\\n'"
      ]
     },
     "execution_count": 50,
     "metadata": {},
     "output_type": "execute_result"
    }
   ],
   "source": [
    "f2.readline()"
   ]
  },
  {
   "cell_type": "code",
   "execution_count": 51,
   "id": "bc1f6a07",
   "metadata": {},
   "outputs": [
    {
     "data": {
      "text/plain": [
       "['this is my python program to write into a file in diffrent way\\n',\n",
       " 'this is my python program to write into a file in diffrent way\\n',\n",
       " 'this is my python program to write into a file in diffrent way\\n',\n",
       " 'this is my python program to write into a file in diffrent way\\n']"
      ]
     },
     "execution_count": 51,
     "metadata": {},
     "output_type": "execute_result"
    }
   ],
   "source": [
    "f2.readlines()"
   ]
  },
  {
   "cell_type": "code",
   "execution_count": 52,
   "id": "d74a55c4",
   "metadata": {},
   "outputs": [
    {
     "data": {
      "text/plain": [
       "_io.TextIOWrapper"
      ]
     },
     "execution_count": 52,
     "metadata": {},
     "output_type": "execute_result"
    }
   ],
   "source": [
    "type(f2)"
   ]
  },
  {
   "cell_type": "code",
   "execution_count": 53,
   "id": "0178de22",
   "metadata": {},
   "outputs": [
    {
     "data": {
      "text/plain": [
       "'test5.txt'"
      ]
     },
     "execution_count": 53,
     "metadata": {},
     "output_type": "execute_result"
    }
   ],
   "source": [
    "f.name"
   ]
  },
  {
   "cell_type": "code",
   "execution_count": 55,
   "id": "0361d905",
   "metadata": {},
   "outputs": [
    {
     "data": {
      "text/plain": [
       "False"
      ]
     },
     "execution_count": 55,
     "metadata": {},
     "output_type": "execute_result"
    }
   ],
   "source": [
    "f.closed"
   ]
  },
  {
   "cell_type": "code",
   "execution_count": 56,
   "id": "9d69168e",
   "metadata": {},
   "outputs": [
    {
     "data": {
      "text/plain": [
       "'r'"
      ]
     },
     "execution_count": 56,
     "metadata": {},
     "output_type": "execute_result"
    }
   ],
   "source": [
    "f.mode"
   ]
  },
  {
   "cell_type": "markdown",
   "id": "eab80a95",
   "metadata": {},
   "source": [
    "## map\n",
    "## reduce\n",
    "## filter"
   ]
  },
  {
   "cell_type": "code",
   "execution_count": 74,
   "id": "8288f5fa",
   "metadata": {},
   "outputs": [
    {
     "data": {
      "text/plain": [
       "[4, 9, 16, 25, 36, 49, 64]"
      ]
     },
     "execution_count": 74,
     "metadata": {},
     "output_type": "execute_result"
    }
   ],
   "source": [
    "l = [2,3,4,5,6,7,8]\n",
    "l1 = []\n",
    "for i in l:\n",
    "    l1.append(i**2)\n",
    "l1"
   ]
  },
  {
   "cell_type": "code",
   "execution_count": 63,
   "id": "8dc58094",
   "metadata": {},
   "outputs": [
    {
     "data": {
      "text/plain": [
       "64"
      ]
     },
     "execution_count": 63,
     "metadata": {},
     "output_type": "execute_result"
    }
   ],
   "source": [
    "def sq(n):\n",
    "    return n**2\n",
    "sq(8)"
   ]
  },
  {
   "cell_type": "code",
   "execution_count": null,
   "id": "2439d592",
   "metadata": {},
   "outputs": [],
   "source": []
  },
  {
   "cell_type": "code",
   "execution_count": 71,
   "id": "c11a2517",
   "metadata": {},
   "outputs": [
    {
     "data": {
      "text/plain": [
       "[4, 9, 16, 25, 36]"
      ]
     },
     "execution_count": 71,
     "metadata": {},
     "output_type": "execute_result"
    }
   ],
   "source": [
    "list(map(sq,l))"
   ]
  },
  {
   "cell_type": "code",
   "execution_count": 75,
   "id": "fba4dff4",
   "metadata": {},
   "outputs": [
    {
     "data": {
      "text/plain": [
       "[4, 9, 16, 25, 36, 49, 64]"
      ]
     },
     "execution_count": 75,
     "metadata": {},
     "output_type": "execute_result"
    }
   ],
   "source": [
    "list(map(lambda x : x**2, l))"
   ]
  },
  {
   "cell_type": "code",
   "execution_count": 77,
   "id": "2bd0b4eb",
   "metadata": {},
   "outputs": [
    {
     "data": {
      "text/plain": [
       "['2', '3', '4', '5', '6', '7', '8']"
      ]
     },
     "execution_count": 77,
     "metadata": {},
     "output_type": "execute_result"
    }
   ],
   "source": [
    "list(map(lambda x : str(x),l))"
   ]
  },
  {
   "cell_type": "code",
   "execution_count": 78,
   "id": "5f3e469a",
   "metadata": {},
   "outputs": [
    {
     "data": {
      "text/plain": [
       "['2', '3', '4', '5', '6', '7', '8']"
      ]
     },
     "execution_count": 78,
     "metadata": {},
     "output_type": "execute_result"
    }
   ],
   "source": [
    "def str_v(n):\n",
    "    return str(n)\n",
    "list(map(str_v,l))"
   ]
  },
  {
   "cell_type": "markdown",
   "id": "7a00665a",
   "metadata": {},
   "source": [
    "## reduce"
   ]
  },
  {
   "cell_type": "code",
   "execution_count": 79,
   "id": "eb84158b",
   "metadata": {},
   "outputs": [],
   "source": [
    "from functools import reduce"
   ]
  },
  {
   "cell_type": "code",
   "execution_count": 80,
   "id": "e7787948",
   "metadata": {},
   "outputs": [
    {
     "data": {
      "text/plain": [
       "42"
      ]
     },
     "execution_count": 80,
     "metadata": {},
     "output_type": "execute_result"
    }
   ],
   "source": [
    "l = [3,4,5,6,7,8,9]\n",
    "reduce(lambda a,b : a+b,l)"
   ]
  },
  {
   "cell_type": "code",
   "execution_count": 81,
   "id": "922b3a5f",
   "metadata": {},
   "outputs": [
    {
     "data": {
      "text/plain": [
       "181440"
      ]
     },
     "execution_count": 81,
     "metadata": {},
     "output_type": "execute_result"
    }
   ],
   "source": [
    "reduce(lambda a,b : a*b, l)"
   ]
  },
  {
   "cell_type": "code",
   "execution_count": 82,
   "id": "8fef96e0",
   "metadata": {},
   "outputs": [
    {
     "ename": "TypeError",
     "evalue": "<lambda>() missing 1 required positional argument: 'c'",
     "output_type": "error",
     "traceback": [
      "\u001b[1;31m---------------------------------------------------------------------------\u001b[0m",
      "\u001b[1;31mTypeError\u001b[0m                                 Traceback (most recent call last)",
      "Input \u001b[1;32mIn [82]\u001b[0m, in \u001b[0;36m<cell line: 1>\u001b[1;34m()\u001b[0m\n\u001b[1;32m----> 1\u001b[0m \u001b[43mreduce\u001b[49m\u001b[43m(\u001b[49m\u001b[38;5;28;43;01mlambda\u001b[39;49;00m\u001b[43m \u001b[49m\u001b[43ma\u001b[49m\u001b[43m,\u001b[49m\u001b[43mb\u001b[49m\u001b[43m,\u001b[49m\u001b[43mc\u001b[49m\u001b[43m \u001b[49m\u001b[43m:\u001b[49m\u001b[43m \u001b[49m\u001b[43ma\u001b[49m\u001b[38;5;241;43m*\u001b[39;49m\u001b[43mb\u001b[49m\u001b[38;5;241;43m*\u001b[39;49m\u001b[43mc\u001b[49m\u001b[43m,\u001b[49m\u001b[43m \u001b[49m\u001b[43ml\u001b[49m\u001b[43m)\u001b[49m\n",
      "\u001b[1;31mTypeError\u001b[0m: <lambda>() missing 1 required positional argument: 'c'"
     ]
    }
   ],
   "source": [
    "reduce(lambda a,b,c : a*b*c, l)"
   ]
  },
  {
   "cell_type": "code",
   "execution_count": 85,
   "id": "fce53123",
   "metadata": {},
   "outputs": [
    {
     "data": {
      "text/plain": [
       "362880"
      ]
     },
     "execution_count": 85,
     "metadata": {},
     "output_type": "execute_result"
    }
   ],
   "source": [
    "l = [3,4,5,6,7,8,9,2]\n",
    "reduce(lambda a,b : a*b, l)"
   ]
  },
  {
   "cell_type": "markdown",
   "id": "a64d639f",
   "metadata": {},
   "source": [
    "## filter"
   ]
  },
  {
   "cell_type": "code",
   "execution_count": 94,
   "id": "e00ac1ba",
   "metadata": {},
   "outputs": [
    {
     "data": {
      "text/plain": [
       "[2, 4, 46]"
      ]
     },
     "execution_count": 94,
     "metadata": {},
     "output_type": "execute_result"
    }
   ],
   "source": [
    "l = [1,2,3,4,5,45,46]\n",
    "l2 = []\n",
    "for i in l:\n",
    "    if i%2 == 0:\n",
    "        l2.append(i)\n",
    "l2"
   ]
  },
  {
   "cell_type": "code",
   "execution_count": 98,
   "id": "24f31535",
   "metadata": {},
   "outputs": [
    {
     "data": {
      "text/plain": [
       "[2, 4, 46]"
      ]
     },
     "execution_count": 98,
     "metadata": {},
     "output_type": "execute_result"
    }
   ],
   "source": [
    "list(filter(lambda x : x%2 ==0, l))"
   ]
  },
  {
   "cell_type": "code",
   "execution_count": 138,
   "id": "6a24ce02",
   "metadata": {},
   "outputs": [
    {
     "data": {
      "text/plain": [
       "True"
      ]
     },
     "execution_count": 138,
     "metadata": {},
     "output_type": "execute_result"
    }
   ],
   "source": [
    "def eve(n):\n",
    "    if n%2 != 0:\n",
    "        return True\n",
    "    else:\n",
    "        return False\n",
    "eve(7)"
   ]
  }
 ],
 "metadata": {
  "kernelspec": {
   "display_name": "Python 3 (ipykernel)",
   "language": "python",
   "name": "python3"
  },
  "language_info": {
   "codemirror_mode": {
    "name": "ipython",
    "version": 3
   },
   "file_extension": ".py",
   "mimetype": "text/x-python",
   "name": "python",
   "nbconvert_exporter": "python",
   "pygments_lexer": "ipython3",
   "version": "3.9.12"
  }
 },
 "nbformat": 4,
 "nbformat_minor": 5
}
