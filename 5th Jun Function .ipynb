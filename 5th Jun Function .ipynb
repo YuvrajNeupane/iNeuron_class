{
 "cells": [
  {
   "cell_type": "markdown",
   "id": "688384a0",
   "metadata": {},
   "source": [
    "# doc string is very important or comment about code"
   ]
  },
  {
   "cell_type": "code",
   "execution_count": 1,
   "id": "2d994455",
   "metadata": {},
   "outputs": [],
   "source": [
    "def test(a ,b):\n",
    "    '''this is my function for concatination or addition.'''\n",
    "    return a + b"
   ]
  },
  {
   "cell_type": "code",
   "execution_count": 2,
   "id": "e7fef433",
   "metadata": {},
   "outputs": [
    {
     "data": {
      "text/plain": [
       "10"
      ]
     },
     "execution_count": 2,
     "metadata": {},
     "output_type": "execute_result"
    }
   ],
   "source": [
    "test(4,6)"
   ]
  },
  {
   "cell_type": "code",
   "execution_count": 3,
   "id": "11c7d5f4",
   "metadata": {},
   "outputs": [
    {
     "data": {
      "text/plain": [
       "'Yuvraj Neupane'"
      ]
     },
     "execution_count": 3,
     "metadata": {},
     "output_type": "execute_result"
    }
   ],
   "source": [
    "test('Yuvraj ', 'Neupane')"
   ]
  },
  {
   "cell_type": "code",
   "execution_count": 4,
   "id": "95c689d4",
   "metadata": {},
   "outputs": [
    {
     "data": {
      "text/plain": [
       "12"
      ]
     },
     "execution_count": 4,
     "metadata": {},
     "output_type": "execute_result"
    }
   ],
   "source": [
    "test(a=9, b=3)"
   ]
  },
  {
   "cell_type": "code",
   "execution_count": 5,
   "id": "f87254db",
   "metadata": {},
   "outputs": [
    {
     "data": {
      "text/plain": [
       "47"
      ]
     },
     "execution_count": 5,
     "metadata": {},
     "output_type": "execute_result"
    }
   ],
   "source": [
    "test(b=45, a=2)"
   ]
  },
  {
   "cell_type": "code",
   "execution_count": 6,
   "id": "ebb9f824",
   "metadata": {},
   "outputs": [],
   "source": [
    "def test1(a,b,c,d,e):\n",
    "    return a,b,c,d,e"
   ]
  },
  {
   "cell_type": "code",
   "execution_count": 7,
   "id": "213c1688",
   "metadata": {},
   "outputs": [
    {
     "data": {
      "text/plain": [
       "(3, 5, 2, 5, 6)"
      ]
     },
     "execution_count": 7,
     "metadata": {},
     "output_type": "execute_result"
    }
   ],
   "source": [
    "test1(3,5,2,5,6)"
   ]
  },
  {
   "cell_type": "markdown",
   "id": "7dec81bd",
   "metadata": {},
   "source": [
    "# parameter must be equal"
   ]
  },
  {
   "cell_type": "code",
   "execution_count": 8,
   "id": "cdfe2d98",
   "metadata": {},
   "outputs": [],
   "source": [
    "def test2(a,b,c,d,e):\n",
    "    return a,b,c,d,e"
   ]
  },
  {
   "cell_type": "code",
   "execution_count": 9,
   "id": "12abcb71",
   "metadata": {},
   "outputs": [
    {
     "ename": "TypeError",
     "evalue": "test() takes 2 positional arguments but 6 were given",
     "output_type": "error",
     "traceback": [
      "\u001b[1;31m---------------------------------------------------------------------------\u001b[0m",
      "\u001b[1;31mTypeError\u001b[0m                                 Traceback (most recent call last)",
      "Input \u001b[1;32mIn [9]\u001b[0m, in \u001b[0;36m<cell line: 1>\u001b[1;34m()\u001b[0m\n\u001b[1;32m----> 1\u001b[0m \u001b[43mtest\u001b[49m\u001b[43m(\u001b[49m\u001b[38;5;241;43m2\u001b[39;49m\u001b[43m,\u001b[49m\u001b[38;5;241;43m5\u001b[39;49m\u001b[43m,\u001b[49m\u001b[38;5;241;43m6\u001b[39;49m\u001b[43m,\u001b[49m\u001b[38;5;241;43m3\u001b[39;49m\u001b[43m,\u001b[49m\u001b[38;5;241;43m1\u001b[39;49m\u001b[43m,\u001b[49m\u001b[38;5;241;43m4\u001b[39;49m\u001b[43m)\u001b[49m\n",
      "\u001b[1;31mTypeError\u001b[0m: test() takes 2 positional arguments but 6 were given"
     ]
    }
   ],
   "source": [
    "test(2,5,6,3,1,4)"
   ]
  },
  {
   "cell_type": "markdown",
   "id": "8f35116d",
   "metadata": {},
   "source": [
    "This is the error for parameter"
   ]
  },
  {
   "cell_type": "markdown",
   "id": "eb45fbd6",
   "metadata": {},
   "source": [
    " # pass multiple parameter"
   ]
  },
  {
   "cell_type": "code",
   "execution_count": 10,
   "id": "55d60168",
   "metadata": {},
   "outputs": [],
   "source": [
    "def test(*a):\n",
    "    return a"
   ]
  },
  {
   "cell_type": "code",
   "execution_count": 11,
   "id": "09e19655",
   "metadata": {},
   "outputs": [
    {
     "data": {
      "text/plain": [
       "(3, 5)"
      ]
     },
     "execution_count": 11,
     "metadata": {},
     "output_type": "execute_result"
    }
   ],
   "source": [
    "test(3,5)"
   ]
  },
  {
   "cell_type": "code",
   "execution_count": 13,
   "id": "13b2441b",
   "metadata": {},
   "outputs": [
    {
     "data": {
      "text/plain": [
       "(45, 4, 5, 4, 54, 15)"
      ]
     },
     "execution_count": 13,
     "metadata": {},
     "output_type": "execute_result"
    }
   ],
   "source": [
    "test(45,4,5,4,54,15)"
   ]
  },
  {
   "cell_type": "code",
   "execution_count": 16,
   "id": "071763aa",
   "metadata": {},
   "outputs": [
    {
     "data": {
      "text/plain": [
       "(54, 54, 54, 54, [5, 8, 4, 7, 6])"
      ]
     },
     "execution_count": 16,
     "metadata": {},
     "output_type": "execute_result"
    }
   ],
   "source": [
    "test(54,54,54,54,[5,8,4,7,6])"
   ]
  },
  {
   "cell_type": "markdown",
   "id": "e820e59a",
   "metadata": {},
   "source": [
    "# *args its just a parameter even we can use our name too"
   ]
  },
  {
   "cell_type": "code",
   "execution_count": 1,
   "id": "03619662",
   "metadata": {},
   "outputs": [],
   "source": [
    "def test4(*args):\n",
    "    return args"
   ]
  },
  {
   "cell_type": "code",
   "execution_count": 3,
   "id": "1d9a842f",
   "metadata": {},
   "outputs": [
    {
     "data": {
      "text/plain": [
       "(32, 5, 6, 5, 6)"
      ]
     },
     "execution_count": 3,
     "metadata": {},
     "output_type": "execute_result"
    }
   ],
   "source": [
    "test4(32,5,6,5,6)"
   ]
  },
  {
   "cell_type": "code",
   "execution_count": 4,
   "id": "dc8bfcde",
   "metadata": {},
   "outputs": [],
   "source": [
    "def test5(*yuvraj):\n",
    "    return yuvraj"
   ]
  },
  {
   "cell_type": "code",
   "execution_count": 5,
   "id": "388582fd",
   "metadata": {},
   "outputs": [
    {
     "data": {
      "text/plain": [
       "(54, 5, 6, 'yuvraj')"
      ]
     },
     "execution_count": 5,
     "metadata": {},
     "output_type": "execute_result"
    }
   ],
   "source": [
    "test5(54,5,6,'yuvraj')"
   ]
  },
  {
   "cell_type": "code",
   "execution_count": 10,
   "id": "e51bad3b",
   "metadata": {},
   "outputs": [],
   "source": [
    "def test6(*aa):\n",
    "    l = []\n",
    "    for i in aa:\n",
    "        l.append(i)\n",
    "    return l"
   ]
  },
  {
   "cell_type": "code",
   "execution_count": 11,
   "id": "8adc7e00",
   "metadata": {},
   "outputs": [
    {
     "data": {
      "text/plain": [
       "[2, 3, 5, 4, [23, 5, 6, 9]]"
      ]
     },
     "execution_count": 11,
     "metadata": {},
     "output_type": "execute_result"
    }
   ],
   "source": [
    "test6(2,3,5,4,[23,5,6,9])"
   ]
  },
  {
   "cell_type": "code",
   "execution_count": 14,
   "id": "1eed7f6e",
   "metadata": {},
   "outputs": [],
   "source": [
    "def test7(a,b,c,d, *m):\n",
    "    return a,b,c,d,m"
   ]
  },
  {
   "cell_type": "code",
   "execution_count": 15,
   "id": "be55c05f",
   "metadata": {},
   "outputs": [
    {
     "data": {
      "text/plain": [
       "(3, 4, 5, 6, (8, 8, 7, 9))"
      ]
     },
     "execution_count": 15,
     "metadata": {},
     "output_type": "execute_result"
    }
   ],
   "source": [
    "test7(3,4,5,6,8,8,7,9)"
   ]
  },
  {
   "cell_type": "markdown",
   "id": "1f4de0ce",
   "metadata": {},
   "source": [
    "here is automatically change the argument"
   ]
  },
  {
   "cell_type": "code",
   "execution_count": 16,
   "id": "ae529a9a",
   "metadata": {},
   "outputs": [],
   "source": [
    "def test8(*m, a, b, c, d):\n",
    "    return m, a,b,c,d"
   ]
  },
  {
   "cell_type": "code",
   "execution_count": 17,
   "id": "08509347",
   "metadata": {},
   "outputs": [
    {
     "ename": "TypeError",
     "evalue": "test8() missing 4 required keyword-only arguments: 'a', 'b', 'c', and 'd'",
     "output_type": "error",
     "traceback": [
      "\u001b[1;31m---------------------------------------------------------------------------\u001b[0m",
      "\u001b[1;31mTypeError\u001b[0m                                 Traceback (most recent call last)",
      "Input \u001b[1;32mIn [17]\u001b[0m, in \u001b[0;36m<cell line: 1>\u001b[1;34m()\u001b[0m\n\u001b[1;32m----> 1\u001b[0m \u001b[43mtest8\u001b[49m\u001b[43m(\u001b[49m\u001b[38;5;241;43m45\u001b[39;49m\u001b[43m,\u001b[49m\u001b[38;5;241;43m5\u001b[39;49m\u001b[43m,\u001b[49m\u001b[38;5;241;43m52\u001b[39;49m\u001b[43m,\u001b[49m\u001b[38;5;241;43m5\u001b[39;49m\u001b[43m,\u001b[49m\u001b[38;5;241;43m3\u001b[39;49m\u001b[43m,\u001b[49m\u001b[38;5;241;43m6\u001b[39;49m\u001b[43m,\u001b[49m\u001b[38;5;241;43m4\u001b[39;49m\u001b[43m,\u001b[49m\u001b[38;5;241;43m1\u001b[39;49m\u001b[43m,\u001b[49m\u001b[38;5;241;43m5\u001b[39;49m\u001b[43m)\u001b[49m\n",
      "\u001b[1;31mTypeError\u001b[0m: test8() missing 4 required keyword-only arguments: 'a', 'b', 'c', and 'd'"
     ]
    }
   ],
   "source": [
    "test8(45,5,52,5,3,6,4,1,5)"
   ]
  },
  {
   "cell_type": "markdown",
   "id": "16aa1289",
   "metadata": {},
   "source": [
    "this error not assign a value for variable in function"
   ]
  },
  {
   "cell_type": "code",
   "execution_count": 18,
   "id": "c6daa9b0",
   "metadata": {},
   "outputs": [],
   "source": [
    "def test8(*m, a, b, c, d):\n",
    "    return m, a,b,c,d"
   ]
  },
  {
   "cell_type": "code",
   "execution_count": 19,
   "id": "641513f5",
   "metadata": {},
   "outputs": [
    {
     "data": {
      "text/plain": [
       "((45, 12, 5, 6, 3, 23, 5, 45), 5, 9, 10, 33)"
      ]
     },
     "execution_count": 19,
     "metadata": {},
     "output_type": "execute_result"
    }
   ],
   "source": [
    "test8(45,12,5,6,3,23,5,45, a=5, b=9, c=10, d=33)"
   ]
  },
  {
   "cell_type": "markdown",
   "id": "760c4ffd",
   "metadata": {},
   "source": [
    "This is the right way to write avoide error"
   ]
  },
  {
   "cell_type": "markdown",
   "id": "4641306f",
   "metadata": {},
   "source": [
    " # how to give key value or dictionary"
   ]
  },
  {
   "cell_type": "code",
   "execution_count": 20,
   "id": "a03e030b",
   "metadata": {},
   "outputs": [],
   "source": [
    "def test9(**kwargs): #kwargs is just a anotation or parameter we can chage name \n",
    "    return kwargs    "
   ]
  },
  {
   "cell_type": "code",
   "execution_count": 21,
   "id": "dd134061",
   "metadata": {},
   "outputs": [
    {
     "ename": "TypeError",
     "evalue": "test9() takes 0 positional arguments but 4 were given",
     "output_type": "error",
     "traceback": [
      "\u001b[1;31m---------------------------------------------------------------------------\u001b[0m",
      "\u001b[1;31mTypeError\u001b[0m                                 Traceback (most recent call last)",
      "Input \u001b[1;32mIn [21]\u001b[0m, in \u001b[0;36m<cell line: 1>\u001b[1;34m()\u001b[0m\n\u001b[1;32m----> 1\u001b[0m \u001b[43mtest9\u001b[49m\u001b[43m(\u001b[49m\u001b[38;5;241;43m4\u001b[39;49m\u001b[43m,\u001b[49m\u001b[38;5;241;43m4\u001b[39;49m\u001b[43m,\u001b[49m\u001b[38;5;241;43m5\u001b[39;49m\u001b[43m,\u001b[49m\u001b[38;5;241;43m6\u001b[39;49m\u001b[43m)\u001b[49m\n",
      "\u001b[1;31mTypeError\u001b[0m: test9() takes 0 positional arguments but 4 were given"
     ]
    }
   ],
   "source": [
    "test9(4,4,5,6)"
   ]
  },
  {
   "cell_type": "markdown",
   "id": "477ae126",
   "metadata": {},
   "source": [
    "Because of this error we not pass key value or dictionary argumants"
   ]
  },
  {
   "cell_type": "code",
   "execution_count": 22,
   "id": "3ee83bc8",
   "metadata": {},
   "outputs": [],
   "source": [
    "def test9(**kwargs): \n",
    "    return kwargs  "
   ]
  },
  {
   "cell_type": "code",
   "execution_count": 23,
   "id": "75f31c08",
   "metadata": {},
   "outputs": [
    {
     "data": {
      "text/plain": [
       "{'b': 5, 'g': 6, 'f': 9}"
      ]
     },
     "execution_count": 23,
     "metadata": {},
     "output_type": "execute_result"
    }
   ],
   "source": [
    "test9(b=5,g=6,f=9)"
   ]
  },
  {
   "cell_type": "markdown",
   "id": "f80e2ebe",
   "metadata": {},
   "source": [
    "It's return dictionary key value"
   ]
  },
  {
   "cell_type": "code",
   "execution_count": 25,
   "id": "7731856c",
   "metadata": {},
   "outputs": [],
   "source": [
    "dic={'b': 5, 'g': 6, 'f': 9}"
   ]
  },
  {
   "cell_type": "code",
   "execution_count": 26,
   "id": "92bc4a78",
   "metadata": {},
   "outputs": [
    {
     "ename": "TypeError",
     "evalue": "test9() takes 0 positional arguments but 1 was given",
     "output_type": "error",
     "traceback": [
      "\u001b[1;31m---------------------------------------------------------------------------\u001b[0m",
      "\u001b[1;31mTypeError\u001b[0m                                 Traceback (most recent call last)",
      "Input \u001b[1;32mIn [26]\u001b[0m, in \u001b[0;36m<cell line: 1>\u001b[1;34m()\u001b[0m\n\u001b[1;32m----> 1\u001b[0m \u001b[43mtest9\u001b[49m\u001b[43m(\u001b[49m\u001b[43mdic\u001b[49m\u001b[43m)\u001b[49m\n",
      "\u001b[1;31mTypeError\u001b[0m: test9() takes 0 positional arguments but 1 was given"
     ]
    }
   ],
   "source": [
    "test9(dic)"
   ]
  },
  {
   "cell_type": "markdown",
   "id": "cd56ab38",
   "metadata": {},
   "source": [
    "function is not consider dic as acceptable argument"
   ]
  },
  {
   "cell_type": "code",
   "execution_count": 29,
   "id": "6ea1c36c",
   "metadata": {},
   "outputs": [],
   "source": [
    "def test10(*args, **kwargs): #system consider singal * tuple and double ** means dictionary\n",
    "    return args, kwargs\n",
    "    "
   ]
  },
  {
   "cell_type": "code",
   "execution_count": 30,
   "id": "1c75f9db",
   "metadata": {},
   "outputs": [
    {
     "data": {
      "text/plain": [
       "((23, 65, 54, 87, 65), {'a': 5, 'b': 6, 'c': 3})"
      ]
     },
     "execution_count": 30,
     "metadata": {},
     "output_type": "execute_result"
    }
   ],
   "source": [
    "test10(23,65,54,87,65,a=5,b=6, c=3)"
   ]
  },
  {
   "cell_type": "markdown",
   "id": "792e851b",
   "metadata": {},
   "source": [
    "### * return tuple and ** return dictionary how can we get a list from"
   ]
  },
  {
   "cell_type": "code",
   "execution_count": 44,
   "id": "2300b916",
   "metadata": {},
   "outputs": [
    {
     "name": "stdout",
     "output_type": "stream",
     "text": [
      "<class 'list'>\n",
      "[11, 22, 33, 44, 55, 66]\n"
     ]
    }
   ],
   "source": [
    "def list1(*l):\n",
    "    l1 = []\n",
    "    for i in l:\n",
    "        l1.append(i)\n",
    "    return l1\n",
    "a=list1(11,22,33,44,55,66)\n",
    "print(type(a))\n",
    "print(a)"
   ]
  },
  {
   "cell_type": "markdown",
   "id": "be35f527",
   "metadata": {},
   "source": [
    "### create a function return sum of all the int arguments"
   ]
  },
  {
   "cell_type": "code",
   "execution_count": 52,
   "id": "713e5836",
   "metadata": {},
   "outputs": [],
   "source": [
    "def sum1(*s):\n",
    "    n = 0\n",
    "    for i in s:\n",
    "        if type(i) == int:\n",
    "            n = n + i\n",
    "    return n"
   ]
  },
  {
   "cell_type": "code",
   "execution_count": 57,
   "id": "d42cbe7e",
   "metadata": {},
   "outputs": [
    {
     "data": {
      "text/plain": [
       "37"
      ]
     },
     "execution_count": 57,
     "metadata": {},
     "output_type": "execute_result"
    }
   ],
   "source": [
    "sum1(2,2,2,2,2,2,2,2,2,2,2,2,2,2,2,2,5)"
   ]
  },
  {
   "cell_type": "markdown",
   "id": "d139475c",
   "metadata": {},
   "source": [
    "### create a function return mutiply of all the int arguments"
   ]
  },
  {
   "cell_type": "code",
   "execution_count": 66,
   "id": "8c362f84",
   "metadata": {},
   "outputs": [],
   "source": [
    "def mul(*m):\n",
    "    d = 1\n",
    "    for i in m:\n",
    "        if type(i) == int:\n",
    "            d = d * i\n",
    "    return d"
   ]
  },
  {
   "cell_type": "code",
   "execution_count": 67,
   "id": "16407c65",
   "metadata": {},
   "outputs": [
    {
     "data": {
      "text/plain": [
       "16"
      ]
     },
     "execution_count": 67,
     "metadata": {},
     "output_type": "execute_result"
    }
   ],
   "source": [
    "mul(2,2,2,2)"
   ]
  },
  {
   "cell_type": "code",
   "execution_count": 68,
   "id": "4d1aa57d",
   "metadata": {},
   "outputs": [
    {
     "data": {
      "text/plain": [
       "5153632"
      ]
     },
     "execution_count": 68,
     "metadata": {},
     "output_type": "execute_result"
    }
   ],
   "source": [
    "mul(22,22,22,22,22)"
   ]
  },
  {
   "cell_type": "code",
   "execution_count": 69,
   "id": "c7be157a",
   "metadata": {},
   "outputs": [
    {
     "data": {
      "text/plain": [
       "162"
      ]
     },
     "execution_count": 69,
     "metadata": {},
     "output_type": "execute_result"
    }
   ],
   "source": [
    "mul(3,6,9)"
   ]
  },
  {
   "cell_type": "markdown",
   "id": "73e998b8",
   "metadata": {},
   "source": [
    "# function without name (LAMBDA)"
   ]
  },
  {
   "cell_type": "markdown",
   "id": "e5bf3e11",
   "metadata": {},
   "source": [
    "# lambda or anonymous  or inline function"
   ]
  },
  {
   "cell_type": "code",
   "execution_count": 70,
   "id": "c660ddde",
   "metadata": {},
   "outputs": [],
   "source": [
    "n = lambda a,b : a + b #this function without name"
   ]
  },
  {
   "cell_type": "code",
   "execution_count": 71,
   "id": "6f3564e6",
   "metadata": {},
   "outputs": [
    {
     "data": {
      "text/plain": [
       "9"
      ]
     },
     "execution_count": 71,
     "metadata": {},
     "output_type": "execute_result"
    }
   ],
   "source": [
    "n(4,5)"
   ]
  },
  {
   "cell_type": "code",
   "execution_count": 74,
   "id": "3eca2a4a",
   "metadata": {},
   "outputs": [
    {
     "data": {
      "text/plain": [
       "9"
      ]
     },
     "execution_count": 74,
     "metadata": {},
     "output_type": "execute_result"
    }
   ],
   "source": [
    "def test11(a,b): #this function has name (test11 is a name for this function)\n",
    "    return a + b\n",
    "test11(4,5)"
   ]
  },
  {
   "cell_type": "markdown",
   "id": "fd21ae3b",
   "metadata": {},
   "source": [
    "### multiple parameter in lambda"
   ]
  },
  {
   "cell_type": "code",
   "execution_count": 75,
   "id": "d86313e9",
   "metadata": {},
   "outputs": [],
   "source": [
    "b = lambda *yuvraj : yuvraj"
   ]
  },
  {
   "cell_type": "code",
   "execution_count": 76,
   "id": "37ec4513",
   "metadata": {},
   "outputs": [
    {
     "data": {
      "text/plain": [
       "(45, 6, 9, 98, 78, 56)"
      ]
     },
     "execution_count": 76,
     "metadata": {},
     "output_type": "execute_result"
    }
   ],
   "source": [
    "b(45,6,9,98,78,56)"
   ]
  },
  {
   "cell_type": "markdown",
   "id": "d0fa08e8",
   "metadata": {},
   "source": [
    "### comprehance operation "
   ]
  },
  {
   "cell_type": "code",
   "execution_count": 77,
   "id": "8e88846e",
   "metadata": {},
   "outputs": [],
   "source": [
    "t=[5,2,6,5,5,6,6,9,5,55]\n",
    "l=[]\n",
    "for i in t:\n",
    "    l.append(i)"
   ]
  },
  {
   "cell_type": "code",
   "execution_count": 78,
   "id": "a8bc6b23",
   "metadata": {},
   "outputs": [
    {
     "data": {
      "text/plain": [
       "[5, 2, 6, 5, 5, 6, 6, 9, 5, 55]"
      ]
     },
     "execution_count": 78,
     "metadata": {},
     "output_type": "execute_result"
    }
   ],
   "source": [
    "l"
   ]
  },
  {
   "cell_type": "code",
   "execution_count": 80,
   "id": "f7a8bf11",
   "metadata": {},
   "outputs": [
    {
     "data": {
      "text/plain": [
       "[5, 2, 6, 5, 5, 6, 6, 9, 5, 55]"
      ]
     },
     "execution_count": 80,
     "metadata": {},
     "output_type": "execute_result"
    }
   ],
   "source": [
    "[i for i in t] # instate of writing multiple line just write a line of code"
   ]
  },
  {
   "cell_type": "code",
   "execution_count": 81,
   "id": "0ed66d4e",
   "metadata": {},
   "outputs": [
    {
     "data": {
      "text/plain": [
       "['Y', 'U', 'V', 'R', 'A', 'J']"
      ]
     },
     "execution_count": 81,
     "metadata": {},
     "output_type": "execute_result"
    }
   ],
   "source": [
    "s = 'YUVRAJ'\n",
    "[i for i in s] # this is called comprehantion operation"
   ]
  },
  {
   "cell_type": "markdown",
   "id": "a9384176",
   "metadata": {},
   "source": [
    "## squre of all the range value"
   ]
  },
  {
   "cell_type": "code",
   "execution_count": 82,
   "id": "5ceef6a5",
   "metadata": {},
   "outputs": [
    {
     "data": {
      "text/plain": [
       "[0, 1, 4, 9, 16, 25, 36, 49, 64, 81]"
      ]
     },
     "execution_count": 82,
     "metadata": {},
     "output_type": "execute_result"
    }
   ],
   "source": [
    "[i*i for i in range(10)]"
   ]
  },
  {
   "cell_type": "code",
   "execution_count": 83,
   "id": "7e943c46",
   "metadata": {},
   "outputs": [
    {
     "data": {
      "text/plain": [
       "[0, 2, 4, 6, 8, 10, 12, 14, 16, 18]"
      ]
     },
     "execution_count": 83,
     "metadata": {},
     "output_type": "execute_result"
    }
   ],
   "source": [
    "[i+i for i in range(10)]"
   ]
  },
  {
   "cell_type": "code",
   "execution_count": 87,
   "id": "d4538ee0",
   "metadata": {},
   "outputs": [
    {
     "data": {
      "text/plain": [
       "[0, 1, 2, 3, 4, 5, 6, 7, 8, 9, 10, 11, 12, 13, 14, 15, 16, 17, 18, 19]"
      ]
     },
     "execution_count": 87,
     "metadata": {},
     "output_type": "execute_result"
    }
   ],
   "source": [
    "[i for i in range(20)]"
   ]
  },
  {
   "cell_type": "code",
   "execution_count": 90,
   "id": "cf10344b",
   "metadata": {},
   "outputs": [
    {
     "data": {
      "text/plain": [
       "[23, 65, 9, 6, 5, 4]"
      ]
     },
     "execution_count": 90,
     "metadata": {},
     "output_type": "execute_result"
    }
   ],
   "source": [
    "l = lambda *x : [i for i in x]\n",
    "l(23,65,9,6,5,4)"
   ]
  },
  {
   "cell_type": "code",
   "execution_count": 93,
   "id": "3091aed8",
   "metadata": {},
   "outputs": [
    {
     "data": {
      "text/plain": [
       "[8, 125, 729, 216, 125, 64]"
      ]
     },
     "execution_count": 93,
     "metadata": {},
     "output_type": "execute_result"
    }
   ],
   "source": [
    "l = lambda *x : [i**3 for i in x]\n",
    "l(2,5,9,6,5,4)"
   ]
  },
  {
   "cell_type": "code",
   "execution_count": 94,
   "id": "05c83edc",
   "metadata": {},
   "outputs": [
    {
     "data": {
      "text/plain": [
       "((), {'a': 7, 'b': 'yuvraj', 'c': 345, 'd': 'yuvr', 'l': [2, 1, 5, 4, 6]})"
      ]
     },
     "execution_count": 94,
     "metadata": {},
     "output_type": "execute_result"
    }
   ],
   "source": [
    "test14(a=7, b='yuvraj',c=345, d='yuvr',l=[2,1,5,4,6])"
   ]
  },
  {
   "cell_type": "markdown",
   "id": "2b1edfac",
   "metadata": {},
   "source": [
    "## return how many string value accure in the function"
   ]
  },
  {
   "cell_type": "code",
   "execution_count": 96,
   "id": "f195250c",
   "metadata": {},
   "outputs": [],
   "source": [
    "def test14(**a):\n",
    "    count = 0\n",
    "    for i in a.values():\n",
    "        if type(i) == str or type(i) == list:\n",
    "            count += 1\n",
    "    return count"
   ]
  },
  {
   "cell_type": "code",
   "execution_count": 97,
   "id": "770907b9",
   "metadata": {},
   "outputs": [
    {
     "data": {
      "text/plain": [
       "3"
      ]
     },
     "execution_count": 97,
     "metadata": {},
     "output_type": "execute_result"
    }
   ],
   "source": [
    "test14(a=7, b='yuvraj',c=345, d='yuvr',l=[2,1,5,4,6])"
   ]
  },
  {
   "cell_type": "code",
   "execution_count": 106,
   "id": "7c3e2ed6",
   "metadata": {},
   "outputs": [],
   "source": [
    "def test14(**a):\n",
    "    count = 0\n",
    "    print(a)\n",
    "    for i in a.values():\n",
    "        if type(i) == str or type(i) == list:\n",
    "            count += 1\n",
    "    return count"
   ]
  },
  {
   "cell_type": "code",
   "execution_count": 107,
   "id": "123e285e",
   "metadata": {},
   "outputs": [
    {
     "name": "stdout",
     "output_type": "stream",
     "text": [
      "{'a': 7, 'b': 'yuvraj', 'c': 345, 'd': 'yuvr', 'l': [2, 1, 5, 4, 6]}\n"
     ]
    },
    {
     "data": {
      "text/plain": [
       "3"
      ]
     },
     "execution_count": 107,
     "metadata": {},
     "output_type": "execute_result"
    }
   ],
   "source": [
    "test14(a=7, b='yuvraj',c=345, d='yuvr',l=[2,1,5,4,6])"
   ]
  },
  {
   "cell_type": "code",
   "execution_count": 102,
   "id": "280dbb19",
   "metadata": {},
   "outputs": [],
   "source": [
    "def test14(**a):\n",
    "    count = 0\n",
    "    print(a)\n",
    "    print('keys:',a.keys())\n",
    "    print('values:',a.values())\n",
    "    for i in a.values():\n",
    "        if type(i) == str or type(i) == list:\n",
    "            count += 1\n",
    "    return count"
   ]
  },
  {
   "cell_type": "code",
   "execution_count": 103,
   "id": "527bd629",
   "metadata": {},
   "outputs": [
    {
     "name": "stdout",
     "output_type": "stream",
     "text": [
      "{'a': 7, 'b': 'yuvraj', 'c': 345, 'd': 'yuvr', 'l': [2, 1, 5, 4, 6]}\n",
      "keys: dict_keys(['a', 'b', 'c', 'd', 'l'])\n",
      "values: dict_values([7, 'yuvraj', 345, 'yuvr', [2, 1, 5, 4, 6]])\n"
     ]
    },
    {
     "data": {
      "text/plain": [
       "3"
      ]
     },
     "execution_count": 103,
     "metadata": {},
     "output_type": "execute_result"
    }
   ],
   "source": [
    "test14(a=7, b='yuvraj',c=345, d='yuvr',l=[2,1,5,4,6])"
   ]
  },
  {
   "cell_type": "code",
   "execution_count": null,
   "id": "30e810ba",
   "metadata": {},
   "outputs": [],
   "source": []
  },
  {
   "cell_type": "code",
   "execution_count": null,
   "id": "5b8fae6c",
   "metadata": {},
   "outputs": [],
   "source": []
  }
 ],
 "metadata": {
  "kernelspec": {
   "display_name": "Python 3 (ipykernel)",
   "language": "python",
   "name": "python3"
  },
  "language_info": {
   "codemirror_mode": {
    "name": "ipython",
    "version": 3
   },
   "file_extension": ".py",
   "mimetype": "text/x-python",
   "name": "python",
   "nbconvert_exporter": "python",
   "pygments_lexer": "ipython3",
   "version": "3.9.12"
  }
 },
 "nbformat": 4,
 "nbformat_minor": 5
}
