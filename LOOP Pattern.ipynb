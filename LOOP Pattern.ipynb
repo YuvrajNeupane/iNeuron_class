{
 "cells": [
  {
   "cell_type": "code",
   "execution_count": null,
   "metadata": {},
   "outputs": [],
   "source": [
    "*\n",
    "* *\n",
    "* * *\n",
    "* * * *\n",
    "* * * * *"
   ]
  },
  {
   "cell_type": "code",
   "execution_count": null,
   "metadata": {},
   "outputs": [],
   "source": []
  },
  {
   "cell_type": "code",
   "execution_count": 3,
   "metadata": {},
   "outputs": [
    {
     "name": "stdout",
     "output_type": "stream",
     "text": [
      "enter the number:5\n",
      "* \n",
      "* * \n",
      "* * * \n",
      "* * * * \n",
      "* * * * * \n"
     ]
    }
   ],
   "source": [
    "num=int(input('enter the number:'))\n",
    "\n",
    "for i in range(num):\n",
    "    for j in range(i+1):\n",
    "        print('*',end=' ')\n",
    "    print()"
   ]
  },
  {
   "cell_type": "code",
   "execution_count": null,
   "metadata": {},
   "outputs": [],
   "source": [
    "* * * * *\n",
    "* * * *\n",
    "* * *\n",
    "* *\n",
    "*"
   ]
  },
  {
   "cell_type": "code",
   "execution_count": 5,
   "metadata": {},
   "outputs": [
    {
     "name": "stdout",
     "output_type": "stream",
     "text": [
      "enter the number:5\n",
      "* * * * * \n",
      "* * * * \n",
      "* * * \n",
      "* * \n",
      "* \n"
     ]
    }
   ],
   "source": [
    "num=int(input('enter the number:'))\n",
    "\n",
    "for i in range(num):\n",
    "    for j in range(num-i):\n",
    "        print('*',end=' ')\n",
    "    print()"
   ]
  },
  {
   "cell_type": "code",
   "execution_count": null,
   "metadata": {},
   "outputs": [],
   "source": [
    "         *\n",
    "      *  *\n",
    "    * *  *\n",
    "*  *  *  *"
   ]
  },
  {
   "cell_type": "code",
   "execution_count": 16,
   "metadata": {},
   "outputs": [
    {
     "name": "stdout",
     "output_type": "stream",
     "text": [
      "enter the number:5\n",
      "          * \n",
      "        * * \n",
      "      * * * \n",
      "    * * * * \n",
      "  * * * * * \n"
     ]
    }
   ],
   "source": [
    "num=int(input('enter the number:'))\n",
    "\n",
    "for i in range(num):\n",
    "    for j in range(num-i):\n",
    "        print('  ',end='')\n",
    "    for j in range(i+1):\n",
    "        print('*',end=' ')\n",
    "    print()"
   ]
  },
  {
   "cell_type": "code",
   "execution_count": null,
   "metadata": {},
   "outputs": [],
   "source": [
    "* * * * *\n",
    "  * * * *\n",
    "    * * *\n",
    "      * *\n",
    "        *"
   ]
  },
  {
   "cell_type": "code",
   "execution_count": 32,
   "metadata": {},
   "outputs": [
    {
     "name": "stdout",
     "output_type": "stream",
     "text": [
      "enter the number:5\n",
      " *****\n",
      "  ****\n",
      "   ***\n",
      "    **\n",
      "     *\n"
     ]
    }
   ],
   "source": [
    "num=int(input('enter the number:'))\n",
    "\n",
    "for i in range(num):\n",
    "    for j in range(0,i+1):\n",
    "        print(' ',end='')\n",
    "    for j in range(num-i):\n",
    "        print('*',end='')\n",
    "    print()"
   ]
  },
  {
   "cell_type": "code",
   "execution_count": null,
   "metadata": {},
   "outputs": [],
   "source": [
    "* * * * *\n",
    " * * * *\n",
    "  * * *\n",
    "   * *\n",
    "    *"
   ]
  },
  {
   "cell_type": "code",
   "execution_count": 33,
   "metadata": {},
   "outputs": [
    {
     "name": "stdout",
     "output_type": "stream",
     "text": [
      "enter the number:5\n",
      "  * * * * *\n",
      "   * * * *\n",
      "    * * *\n",
      "     * *\n",
      "      *\n"
     ]
    }
   ],
   "source": [
    "num=int(input('enter the number:'))\n",
    "\n",
    "for i in range(num):\n",
    "    for j in range(0,i+1):\n",
    "        print(' ',end='')\n",
    "    for j in range(num-i):\n",
    "        print(' *',end='')\n",
    "    print()"
   ]
  },
  {
   "cell_type": "code",
   "execution_count": null,
   "metadata": {},
   "outputs": [],
   "source": [
    "     * \n",
    "    * * \n",
    "   * * * \n",
    "  * * * * \n",
    " * * * * * "
   ]
  },
  {
   "cell_type": "code",
   "execution_count": 47,
   "metadata": {},
   "outputs": [
    {
     "name": "stdout",
     "output_type": "stream",
     "text": [
      "enter the number: 5\n",
      "     * \n",
      "    * * \n",
      "   * * * \n",
      "  * * * * \n",
      " * * * * * \n"
     ]
    }
   ],
   "source": [
    "num=int(input('enter the number: '))\n",
    "\n",
    "for i in range(num):\n",
    "    for j in range(num-i):\n",
    "        print(' ',end='')\n",
    "    for j in range(0,i+1):\n",
    "        print('* ',end='')\n",
    "    print()"
   ]
  },
  {
   "cell_type": "code",
   "execution_count": null,
   "metadata": {},
   "outputs": [],
   "source": [
    "     * \n",
    "    * * \n",
    "   * * * \n",
    "  * * * * \n",
    " * * * * * \n",
    "  * * * *\n",
    "   * * *\n",
    "    * *\n",
    "     *"
   ]
  },
  {
   "cell_type": "code",
   "execution_count": 65,
   "metadata": {},
   "outputs": [
    {
     "name": "stdout",
     "output_type": "stream",
     "text": [
      "enter the number: 5\n",
      "     * \n",
      "    * * \n",
      "   * * * \n",
      "  * * * * \n",
      " * * * * * \n",
      "  * * * *\n",
      "   * * *\n",
      "    * *\n",
      "     *\n",
      "     \n"
     ]
    }
   ],
   "source": [
    "num=int(input('enter the number: '))\n",
    "\n",
    "for i in range(num):\n",
    "    for j in range(num-i):\n",
    "        print(' ',end='')\n",
    "    for j in range(0,i+1):\n",
    "        print('* ',end='')\n",
    "    print()\n",
    "for i in range(num):\n",
    "    for j in range(i+1):\n",
    "        print(' ',end='')\n",
    "    for j in range(num-1-i):\n",
    "        print(' *',end='')\n",
    "    print()"
   ]
  },
  {
   "cell_type": "code",
   "execution_count": null,
   "metadata": {},
   "outputs": [],
   "source": [
    "*             *\n",
    "* *         * *\n",
    "* * *     * * *\n",
    "* * * * * * * *"
   ]
  },
  {
   "cell_type": "code",
   "execution_count": 57,
   "metadata": {},
   "outputs": [
    {
     "name": "stdout",
     "output_type": "stream",
     "text": [
      "enter the number:5\n",
      "*     *****\n",
      "**    *****\n",
      "***   *****\n",
      "****  *****\n",
      "***** *****\n"
     ]
    }
   ],
   "source": [
    "num= int(input('enter the number:'))\n",
    "\n",
    "for i in range(num):\n",
    "    for j in range(i+1):\n",
    "        print('*',end='')    \n",
    "    for j in range(num-i):\n",
    "        print('',end='')\n",
    "    for j in range(num-i):\n",
    "        print(' ',end='')\n",
    "    for j in range(num,0,-1):\n",
    "        print('*',end='')\n",
    "    print()\n"
   ]
  },
  {
   "cell_type": "code",
   "execution_count": 54,
   "metadata": {},
   "outputs": [
    {
     "name": "stdout",
     "output_type": "stream",
     "text": [
      "*******\n",
      "*** ***\n",
      "**   **\n",
      "*     *\n"
     ]
    }
   ],
   "source": [
    "n=5\n",
    "for i in range(1,5):\n",
    "    for j in range(1,8):\n",
    "        if j<=5-i or j>=3+i:\n",
    "            print('*',end='')\n",
    "        else:\n",
    "            print(' ',end='')\n",
    "    print()"
   ]
  },
  {
   "cell_type": "code",
   "execution_count": 56,
   "metadata": {},
   "outputs": [
    {
     "name": "stdout",
     "output_type": "stream",
     "text": [
      "*******\n",
      "*** ***\n",
      "**   **\n",
      "*     *\n"
     ]
    }
   ],
   "source": [
    "n=5\n",
    "for i in range(1,5):\n",
    "    for j in range(1,8):\n",
    "        if j<=5-i or j>=3+i:\n",
    "            print('*',end='')\n",
    "        else:\n",
    "            print(' ',end='')\n",
    "    print()"
   ]
  },
  {
   "cell_type": "code",
   "execution_count": 11,
   "metadata": {},
   "outputs": [
    {
     "name": "stdout",
     "output_type": "stream",
     "text": [
      "enter the num: 5\n",
      "\n",
      "*\n",
      "**\n",
      "***\n",
      "****\n"
     ]
    }
   ],
   "source": [
    "num=int(input('enter the num: '))\n",
    "\n",
    "for i in range(num):\n",
    "    for j in range(i):\n",
    "        print('*',end='')\n",
    "    print()"
   ]
  },
  {
   "cell_type": "code",
   "execution_count": 15,
   "metadata": {},
   "outputs": [
    {
     "name": "stdout",
     "output_type": "stream",
     "text": [
      "enter the number:5\n",
      "*     *****\n",
      "**    *****\n",
      "***   *****\n",
      "****  *****\n",
      "***** *****\n"
     ]
    }
   ],
   "source": [
    "num= int(input('enter the number:'))\n",
    "\n",
    "for i in range(num):\n",
    "    for j in range(i+1):\n",
    "        print('*',end='')    \n",
    "    for j in range(num-i):\n",
    "        print('',end='')\n",
    "    for j in range(num-i):\n",
    "        print(' ',end='')\n",
    "    for j in range(num,0,-1):\n",
    "        print('*',end='')\n",
    "    print()"
   ]
  },
  {
   "cell_type": "code",
   "execution_count": 14,
   "metadata": {},
   "outputs": [
    {
     "name": "stdout",
     "output_type": "stream",
     "text": [
      "\n",
      "* \n",
      "* * \n",
      "* * * \n",
      "* * * * \n",
      "* * * * * \n"
     ]
    }
   ],
   "source": [
    "rows = 5\n",
    "for j in range(rows+1):\n",
    "    print(\"* \" * j)"
   ]
  },
  {
   "cell_type": "code",
   "execution_count": null,
   "metadata": {},
   "outputs": [],
   "source": []
  }
 ],
 "metadata": {
  "kernelspec": {
   "display_name": "Python 3",
   "language": "python",
   "name": "python3"
  },
  "language_info": {
   "codemirror_mode": {
    "name": "ipython",
    "version": 3
   },
   "file_extension": ".py",
   "mimetype": "text/x-python",
   "name": "python",
   "nbconvert_exporter": "python",
   "pygments_lexer": "ipython3",
   "version": "3.8.5"
  }
 },
 "nbformat": 4,
 "nbformat_minor": 4
}
