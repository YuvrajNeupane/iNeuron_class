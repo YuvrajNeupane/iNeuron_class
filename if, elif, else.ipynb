{
 "cells": [
  {
   "cell_type": "code",
   "execution_count": null,
   "metadata": {},
   "outputs": [],
   "source": [
    "a=10\n",
    "if a==11:\n",
    "    print('This is my first condition')"
   ]
  },
  {
   "cell_type": "code",
   "execution_count": null,
   "metadata": {},
   "outputs": [],
   "source": [
    "a=10\n",
    "if a > 5 :\n",
    "    pass"
   ]
  },
  {
   "cell_type": "code",
   "execution_count": null,
   "metadata": {},
   "outputs": [],
   "source": [
    "a=10\n",
    "if a >8:\n",
    "    print('print if condition is true')"
   ]
  },
  {
   "cell_type": "code",
   "execution_count": null,
   "metadata": {},
   "outputs": [],
   "source": [
    "a=10\n",
    "if a !=11:\n",
    "    print('my condition id false')\n",
    "else:\n",
    "    print('print this')"
   ]
  },
  {
   "cell_type": "code",
   "execution_count": null,
   "metadata": {},
   "outputs": [],
   "source": [
    "a=10\n",
    "if a ==11:\n",
    "    print('my condition id false')\n",
    "else:\n",
    "    print('print this')"
   ]
  },
  {
   "cell_type": "code",
   "execution_count": null,
   "metadata": {},
   "outputs": [],
   "source": [
    "a=10\n",
    "if a == 12:\n",
    "    print('here we are trying to compare 10 with 12')\n",
    "elif a == 11:\n",
    "    print('we are tying to compare 10 with 11')\n",
    "else:\n",
    "    print('if all the blockes will fail then do this')"
   ]
  },
  {
   "cell_type": "code",
   "execution_count": null,
   "metadata": {},
   "outputs": [],
   "source": [
    "a=10\n",
    "if a == 12:\n",
    "    print('here we are trying to compare 10 with 12')\n",
    "elif a == 10:\n",
    "    print('we are tying to compare 10 with 11')\n",
    "else:\n",
    "    print('if all the blockes will fail then do this')"
   ]
  },
  {
   "cell_type": "code",
   "execution_count": null,
   "metadata": {},
   "outputs": [],
   "source": [
    "a=10\n",
    "if a == 10:\n",
    "    print('here we are trying to compare 10 with 12')\n",
    "elif a == 11:\n",
    "    print('we are tying to compare 10 with 11')\n",
    "else:\n",
    "    print('if all the blockes will fail then do this')"
   ]
  },
  {
   "cell_type": "code",
   "execution_count": null,
   "metadata": {},
   "outputs": [],
   "source": [
    "a<10"
   ]
  },
  {
   "cell_type": "code",
   "execution_count": null,
   "metadata": {},
   "outputs": [],
   "source": [
    "a>10"
   ]
  },
  {
   "cell_type": "code",
   "execution_count": null,
   "metadata": {},
   "outputs": [],
   "source": [
    "a==10"
   ]
  },
  {
   "cell_type": "code",
   "execution_count": null,
   "metadata": {},
   "outputs": [],
   "source": [
    "a!=10"
   ]
  },
  {
   "cell_type": "code",
   "execution_count": null,
   "metadata": {},
   "outputs": [],
   "source": [
    "price=500\n",
    "if price > 500:\n",
    "    print('may be i wont buy a jacket')\n",
    "elif price <= 500:\n",
    "    print('i will able to buy a jacket')\n",
    "else:\n",
    "    print('not valid')"
   ]
  },
  {
   "cell_type": "code",
   "execution_count": null,
   "metadata": {},
   "outputs": [],
   "source": [
    "l=[1,2,3,4,5,6]"
   ]
  },
  {
   "cell_type": "code",
   "execution_count": null,
   "metadata": {},
   "outputs": [],
   "source": [
    "if 2 in l:\n",
    "    print('try to perform a task')\n",
    "else:\n",
    "    print('do not perform this task')"
   ]
  },
  {
   "cell_type": "code",
   "execution_count": null,
   "metadata": {},
   "outputs": [],
   "source": [
    "if 60 in l:\n",
    "    print('try to perform a task')\n",
    "else:\n",
    "    print('do not perform this task')"
   ]
  },
  {
   "cell_type": "code",
   "execution_count": null,
   "metadata": {},
   "outputs": [],
   "source": [
    "a=400"
   ]
  },
  {
   "cell_type": "code",
   "execution_count": null,
   "metadata": {},
   "outputs": [],
   "source": [
    "b=input()"
   ]
  },
  {
   "cell_type": "code",
   "execution_count": null,
   "metadata": {},
   "outputs": [],
   "source": [
    "type(b)"
   ]
  },
  {
   "cell_type": "markdown",
   "metadata": {},
   "source": [
    "# typecast"
   ]
  },
  {
   "cell_type": "code",
   "execution_count": null,
   "metadata": {},
   "outputs": [],
   "source": [
    "c=int(input('int'))\n",
    "d=str(input('str'))\n",
    "e=float(input('float'))"
   ]
  },
  {
   "cell_type": "code",
   "execution_count": null,
   "metadata": {},
   "outputs": [],
   "source": [
    "price=int(input())\n",
    "if price <500:\n",
    "    print('i will to able to buy something')\n",
    "    if price < 400:\n",
    "        print('i will to able to buy a jacket')\n",
    "    elif price < 300:\n",
    "        print('i will to able to buy a shirt')\n",
    "    else:\n",
    "        print('i will to able to buy anything')\n",
    "else:\n",
    "    print('i wont to able to buy anything with this price')"
   ]
  },
  {
   "cell_type": "code",
   "execution_count": null,
   "metadata": {},
   "outputs": [],
   "source": [
    "price=int(input())\n",
    "if price <500:\n",
    "    print('i will to able to buy something')\n",
    "    if price < 400:\n",
    "        print('i will to able to buy a jacket')\n",
    "    elif price < 300:\n",
    "        print('i will to able to buy a shirt')\n",
    "    else:\n",
    "        print('i will to able to buy anything')\n",
    "else:\n",
    "    print('i wont to able to buy anything with this price')"
   ]
  },
  {
   "cell_type": "code",
   "execution_count": null,
   "metadata": {},
   "outputs": [],
   "source": [
    "price=int(input())\n",
    "if price <500:\n",
    "    print('i will to able to buy something')\n",
    "    if price < 400:\n",
    "        print('i will to able to buy a jacket')\n",
    "    elif price < 300:\n",
    "        print('i will to able to buy a shirt')\n",
    "    else:\n",
    "        print('i will to able to buy anything')\n",
    "else:\n",
    "    print('i wont to able to buy anything with this price')"
   ]
  },
  {
   "cell_type": "code",
   "execution_count": null,
   "metadata": {},
   "outputs": [],
   "source": [
    "marks=int(input())\n",
    "\n",
    "if marks < 600:\n",
    "    print('no GRE')\n",
    "    if marks <500:\n",
    "        print('TOFEL')\n",
    "        if marks <400:\n",
    "            print('try somthing else')\n",
    "else:\n",
    "    print('You got GRE!')\n",
    "            "
   ]
  },
  {
   "cell_type": "code",
   "execution_count": null,
   "metadata": {},
   "outputs": [],
   "source": [
    "number= int(input(' enter the number:'))\n",
    "\n",
    "if number ==0:\n",
    "    print(number, 'is a not negetive nor positive!')\n",
    "elif number>0:\n",
    "    print(number,' is a positive number:')\n",
    "elif number <0:\n",
    "    print(number,'is  negetive number:')\n",
    "else:\n",
    "    print('invalid input')"
   ]
  },
  {
   "cell_type": "markdown",
   "metadata": {},
   "source": [
    "# ---------------Multiple condition---------------"
   ]
  },
  {
   "cell_type": "code",
   "execution_count": null,
   "metadata": {},
   "outputs": [],
   "source": [
    "a=10\n",
    "if a <=10 or :\n",
    "    print('Try to do someting')"
   ]
  },
  {
   "cell_type": "markdown",
   "metadata": {},
   "source": [
    "# in OR case \n",
    "## 00 ===>0   \n",
    "## 01 ===>1\n",
    "## 10 ===>1\n",
    "## 11 ===>1\n",
    "\n",
    "## FF ===>F\n",
    "## FT ===>T\n",
    "## TF ===>T\n",
    "## TT ===>T"
   ]
  },
  {
   "cell_type": "code",
   "execution_count": null,
   "metadata": {},
   "outputs": [],
   "source": [
    "a=10\n",
    "if a < 10 or a ==10:\n",
    "    print('Try to do someting')"
   ]
  },
  {
   "cell_type": "code",
   "execution_count": null,
   "metadata": {},
   "outputs": [],
   "source": [
    "a=10\n",
    "if a < 10 or a >10:\n",
    "    print('Try to do someting')"
   ]
  },
  {
   "cell_type": "markdown",
   "metadata": {},
   "source": [
    "# in AND case \n",
    "## 00 ===>0   \n",
    "## 01 ===>0\n",
    "## 10 ===>0\n",
    "## 11 ===>1\n",
    "\n",
    "## FF ===>F\n",
    "## FT ===>F\n",
    "## TF ===>F\n",
    "## TT ===>T"
   ]
  },
  {
   "cell_type": "code",
   "execution_count": null,
   "metadata": {},
   "outputs": [],
   "source": [
    "a=10\n",
    "if a < 10 and a >10:\n",
    "    print('Try to do someting')"
   ]
  },
  {
   "cell_type": "code",
   "execution_count": null,
   "metadata": {},
   "outputs": [],
   "source": [
    "a=10\n",
    "if a <10 and a ==10:\n",
    "    print('Try to do someting')"
   ]
  },
  {
   "cell_type": "code",
   "execution_count": null,
   "metadata": {},
   "outputs": [],
   "source": [
    "a=10\n",
    "if a <= 10 and a==10:\n",
    "    print('Try to do someting')"
   ]
  },
  {
   "cell_type": "code",
   "execution_count": null,
   "metadata": {},
   "outputs": [],
   "source": [
    "b='yuvraj'\n",
    "if b =='Yuvraj'or b=='yuvraj':\n",
    "    print('this statement is ture:')"
   ]
  },
  {
   "cell_type": "code",
   "execution_count": null,
   "metadata": {},
   "outputs": [],
   "source": [
    "b='yuvraj'\n",
    "if b =='Yuvraj'and b=='yuvraj':\n",
    "    print('this statement is false:')"
   ]
  },
  {
   "cell_type": "code",
   "execution_count": null,
   "metadata": {},
   "outputs": [],
   "source": [
    "a=10\n",
    "b=11\n",
    "c=12\n",
    "d=14\n",
    "if a==9 and b==11 and c==12 and d==13:\n",
    "    print('lets do somthing')"
   ]
  },
  {
   "cell_type": "code",
   "execution_count": null,
   "metadata": {},
   "outputs": [],
   "source": [
    "a=10\n",
    "b=11\n",
    "c=12\n",
    "d=14\n",
    "if a==9 or b==11 or c==12 or d==13:\n",
    "    print('lets do somthing')"
   ]
  },
  {
   "cell_type": "code",
   "execution_count": null,
   "metadata": {},
   "outputs": [],
   "source": [
    "a=10\n",
    "b=11\n",
    "c=12\n",
    "d=14\n",
    "if a==9 or b==11 and c==12 and d==13:\n",
    "    print('lets do somthing')"
   ]
  },
  {
   "cell_type": "markdown",
   "metadata": {},
   "source": [
    "## nested condition"
   ]
  },
  {
   "cell_type": "code",
   "execution_count": 1,
   "metadata": {},
   "outputs": [
    {
     "name": "stdout",
     "output_type": "stream",
     "text": [
      "all the values are verified\n",
      "dict_values(['value', 'sudh', 'ineuron'])\n"
     ]
    }
   ],
   "source": [
    "d={'key1':'value','key2':'sudh','key3':'ineuron'}\n",
    "\n",
    "if d['key1']== 'value' and d['key2']=='sudh'and d['key3']=='ineuron':\n",
    "    print('all the values are verified')\n",
    "    print(d.values())\n",
    "else:\n",
    "    print('all the values are not verified')"
   ]
  },
  {
   "cell_type": "code",
   "execution_count": 2,
   "metadata": {},
   "outputs": [
    {
     "name": "stdout",
     "output_type": "stream",
     "text": [
      "all the values are not verified\n"
     ]
    }
   ],
   "source": [
    "d={'key1':'value','key2':'sudh','key3':'ineuron'}\n",
    "\n",
    "if d['key1']== 'value' and d['key2']=='Sudh'and d['key3']=='ineuron':\n",
    "    print('all the values are verified')\n",
    "    print(d.values())\n",
    "else:\n",
    "    print('all the values are not verified')"
   ]
  },
  {
   "cell_type": "code",
   "execution_count": null,
   "metadata": {},
   "outputs": [],
   "source": []
  }
 ],
 "metadata": {
  "kernelspec": {
   "display_name": "Python 3",
   "language": "python",
   "name": "python3"
  },
  "language_info": {
   "codemirror_mode": {
    "name": "ipython",
    "version": 3
   },
   "file_extension": ".py",
   "mimetype": "text/x-python",
   "name": "python",
   "nbconvert_exporter": "python",
   "pygments_lexer": "ipython3",
   "version": "3.8.5"
  }
 },
 "nbformat": 4,
 "nbformat_minor": 4
}
